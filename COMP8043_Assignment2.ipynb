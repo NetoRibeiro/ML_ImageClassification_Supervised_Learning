{
  "nbformat": 4,
  "nbformat_minor": 0,
  "metadata": {
    "colab": {
      "name": "COMP8043_Assignment2.ipynb",
      "provenance": [],
      "collapsed_sections": [],
      "mount_file_id": "1dDXmIY4rPHN1uUFvjfZJ1XUZUTdivZ0u",
      "authorship_tag": "ABX9TyN3rBC+I7V3VCTn+SDorhoR",
      "include_colab_link": true
    },
    "kernelspec": {
      "name": "python3",
      "display_name": "Python 3"
    },
    "language_info": {
      "name": "python"
    }
  },
  "cells": [
    {
      "cell_type": "markdown",
      "metadata": {
        "id": "view-in-github",
        "colab_type": "text"
      },
      "source": [
        "<a href=\"https://colab.research.google.com/github/NetoRibeiro/ML_ImageClassification_Supervised_Learning/blob/main/COMP8043_Assignment2.ipynb\" target=\"_parent\"><img src=\"https://colab.research.google.com/assets/colab-badge.svg\" alt=\"Open In Colab\"/></a>"
      ]
    },
    {
      "cell_type": "markdown",
      "metadata": {
        "id": "nAMWQagFJJxE"
      },
      "source": [
        "# Juvencio Ribeiro Franco Neto\n",
        "## R00206995\n",
        "### COMP8043 | Assignment 2 | Machile Learning Model"
      ]
    },
    {
      "cell_type": "markdown",
      "metadata": {
        "id": "7fVpoEOSJFSq"
      },
      "source": [
        "## Import Libraries"
      ]
    },
    {
      "cell_type": "code",
      "metadata": {
        "id": "YVXja50v8OW8"
      },
      "source": [
        "# Skelearn\n",
        "from sklearn.model_selection import KFold, cross_val_score\n",
        "from sklearn import svm, metrics, neighbors, tree, random\n",
        "from sklearn.metrics import classification_report, confusion_matrix\n",
        "from sklearn.linear_model import Perceptron\n",
        "\n",
        "# Helper libraries\n",
        "import pandas as pd\n",
        "import numpy as np\n",
        "import datetime as dt\n",
        "from time import time\n",
        "import matplotlib.pyplot as plt"
      ],
      "execution_count": 1,
      "outputs": []
    },
    {
      "cell_type": "markdown",
      "metadata": {
        "id": "HcIM3Y3yJDYa"
      },
      "source": [
        "## EDA"
      ]
    },
    {
      "cell_type": "markdown",
      "metadata": {
        "id": "sJyhk4YCMSRl"
      },
      "source": [
        "### Task 1 (pre-processing and visualisation)"
      ]
    },
    {
      "cell_type": "code",
      "metadata": {
        "id": "_H5uDTkd8b4c"
      },
      "source": [
        "# Import file from Google Drive\n",
        "# File Path\n",
        "file_name_images = '/content/drive/MyDrive/COMP8043_Machine_Learning/Assignment2/product_images.csv'"
      ],
      "execution_count": 2,
      "outputs": []
    },
    {
      "cell_type": "code",
      "metadata": {
        "id": "q2a0-zai8gKR",
        "colab": {
          "base_uri": "https://localhost:8080/",
          "height": 193
        },
        "outputId": "faadfbc7-7558-4fb9-928d-5a4b67144a1a"
      },
      "source": [
        "# Load the product images [1 point]\n",
        "df_images = pd.read_csv(file_name_images)\n",
        "# Displaying 3 random Rows of the data set\n",
        "df_images.sample(3)"
      ],
      "execution_count": 3,
      "outputs": [
        {
          "output_type": "execute_result",
          "data": {
            "text/html": [
              "<div>\n",
              "<style scoped>\n",
              "    .dataframe tbody tr th:only-of-type {\n",
              "        vertical-align: middle;\n",
              "    }\n",
              "\n",
              "    .dataframe tbody tr th {\n",
              "        vertical-align: top;\n",
              "    }\n",
              "\n",
              "    .dataframe thead th {\n",
              "        text-align: right;\n",
              "    }\n",
              "</style>\n",
              "<table border=\"1\" class=\"dataframe\">\n",
              "  <thead>\n",
              "    <tr style=\"text-align: right;\">\n",
              "      <th></th>\n",
              "      <th>label</th>\n",
              "      <th>pixel1</th>\n",
              "      <th>pixel2</th>\n",
              "      <th>pixel3</th>\n",
              "      <th>pixel4</th>\n",
              "      <th>pixel5</th>\n",
              "      <th>pixel6</th>\n",
              "      <th>pixel7</th>\n",
              "      <th>pixel8</th>\n",
              "      <th>pixel9</th>\n",
              "      <th>pixel10</th>\n",
              "      <th>pixel11</th>\n",
              "      <th>pixel12</th>\n",
              "      <th>pixel13</th>\n",
              "      <th>pixel14</th>\n",
              "      <th>pixel15</th>\n",
              "      <th>pixel16</th>\n",
              "      <th>pixel17</th>\n",
              "      <th>pixel18</th>\n",
              "      <th>pixel19</th>\n",
              "      <th>pixel20</th>\n",
              "      <th>pixel21</th>\n",
              "      <th>pixel22</th>\n",
              "      <th>pixel23</th>\n",
              "      <th>pixel24</th>\n",
              "      <th>pixel25</th>\n",
              "      <th>pixel26</th>\n",
              "      <th>pixel27</th>\n",
              "      <th>pixel28</th>\n",
              "      <th>pixel29</th>\n",
              "      <th>pixel30</th>\n",
              "      <th>pixel31</th>\n",
              "      <th>pixel32</th>\n",
              "      <th>pixel33</th>\n",
              "      <th>pixel34</th>\n",
              "      <th>pixel35</th>\n",
              "      <th>pixel36</th>\n",
              "      <th>pixel37</th>\n",
              "      <th>pixel38</th>\n",
              "      <th>pixel39</th>\n",
              "      <th>...</th>\n",
              "      <th>pixel745</th>\n",
              "      <th>pixel746</th>\n",
              "      <th>pixel747</th>\n",
              "      <th>pixel748</th>\n",
              "      <th>pixel749</th>\n",
              "      <th>pixel750</th>\n",
              "      <th>pixel751</th>\n",
              "      <th>pixel752</th>\n",
              "      <th>pixel753</th>\n",
              "      <th>pixel754</th>\n",
              "      <th>pixel755</th>\n",
              "      <th>pixel756</th>\n",
              "      <th>pixel757</th>\n",
              "      <th>pixel758</th>\n",
              "      <th>pixel759</th>\n",
              "      <th>pixel760</th>\n",
              "      <th>pixel761</th>\n",
              "      <th>pixel762</th>\n",
              "      <th>pixel763</th>\n",
              "      <th>pixel764</th>\n",
              "      <th>pixel765</th>\n",
              "      <th>pixel766</th>\n",
              "      <th>pixel767</th>\n",
              "      <th>pixel768</th>\n",
              "      <th>pixel769</th>\n",
              "      <th>pixel770</th>\n",
              "      <th>pixel771</th>\n",
              "      <th>pixel772</th>\n",
              "      <th>pixel773</th>\n",
              "      <th>pixel774</th>\n",
              "      <th>pixel775</th>\n",
              "      <th>pixel776</th>\n",
              "      <th>pixel777</th>\n",
              "      <th>pixel778</th>\n",
              "      <th>pixel779</th>\n",
              "      <th>pixel780</th>\n",
              "      <th>pixel781</th>\n",
              "      <th>pixel782</th>\n",
              "      <th>pixel783</th>\n",
              "      <th>pixel784</th>\n",
              "    </tr>\n",
              "  </thead>\n",
              "  <tbody>\n",
              "    <tr>\n",
              "      <th>13055</th>\n",
              "      <td>0</td>\n",
              "      <td>0</td>\n",
              "      <td>0</td>\n",
              "      <td>0</td>\n",
              "      <td>0</td>\n",
              "      <td>0</td>\n",
              "      <td>0</td>\n",
              "      <td>0</td>\n",
              "      <td>0</td>\n",
              "      <td>0</td>\n",
              "      <td>0</td>\n",
              "      <td>0</td>\n",
              "      <td>0</td>\n",
              "      <td>0</td>\n",
              "      <td>0</td>\n",
              "      <td>0</td>\n",
              "      <td>0</td>\n",
              "      <td>0</td>\n",
              "      <td>0</td>\n",
              "      <td>0</td>\n",
              "      <td>0</td>\n",
              "      <td>0</td>\n",
              "      <td>0</td>\n",
              "      <td>0</td>\n",
              "      <td>0</td>\n",
              "      <td>0</td>\n",
              "      <td>0</td>\n",
              "      <td>0</td>\n",
              "      <td>0</td>\n",
              "      <td>0</td>\n",
              "      <td>0</td>\n",
              "      <td>0</td>\n",
              "      <td>0</td>\n",
              "      <td>0</td>\n",
              "      <td>0</td>\n",
              "      <td>0</td>\n",
              "      <td>0</td>\n",
              "      <td>0</td>\n",
              "      <td>0</td>\n",
              "      <td>0</td>\n",
              "      <td>...</td>\n",
              "      <td>0</td>\n",
              "      <td>0</td>\n",
              "      <td>0</td>\n",
              "      <td>0</td>\n",
              "      <td>0</td>\n",
              "      <td>0</td>\n",
              "      <td>0</td>\n",
              "      <td>0</td>\n",
              "      <td>0</td>\n",
              "      <td>0</td>\n",
              "      <td>0</td>\n",
              "      <td>0</td>\n",
              "      <td>0</td>\n",
              "      <td>0</td>\n",
              "      <td>0</td>\n",
              "      <td>0</td>\n",
              "      <td>0</td>\n",
              "      <td>0</td>\n",
              "      <td>0</td>\n",
              "      <td>0</td>\n",
              "      <td>0</td>\n",
              "      <td>0</td>\n",
              "      <td>0</td>\n",
              "      <td>0</td>\n",
              "      <td>0</td>\n",
              "      <td>0</td>\n",
              "      <td>0</td>\n",
              "      <td>0</td>\n",
              "      <td>0</td>\n",
              "      <td>0</td>\n",
              "      <td>0</td>\n",
              "      <td>0</td>\n",
              "      <td>0</td>\n",
              "      <td>0</td>\n",
              "      <td>0</td>\n",
              "      <td>0</td>\n",
              "      <td>0</td>\n",
              "      <td>0</td>\n",
              "      <td>0</td>\n",
              "      <td>0</td>\n",
              "    </tr>\n",
              "    <tr>\n",
              "      <th>5513</th>\n",
              "      <td>0</td>\n",
              "      <td>0</td>\n",
              "      <td>0</td>\n",
              "      <td>0</td>\n",
              "      <td>0</td>\n",
              "      <td>0</td>\n",
              "      <td>0</td>\n",
              "      <td>0</td>\n",
              "      <td>0</td>\n",
              "      <td>0</td>\n",
              "      <td>0</td>\n",
              "      <td>0</td>\n",
              "      <td>0</td>\n",
              "      <td>0</td>\n",
              "      <td>0</td>\n",
              "      <td>0</td>\n",
              "      <td>0</td>\n",
              "      <td>0</td>\n",
              "      <td>0</td>\n",
              "      <td>0</td>\n",
              "      <td>0</td>\n",
              "      <td>0</td>\n",
              "      <td>0</td>\n",
              "      <td>0</td>\n",
              "      <td>0</td>\n",
              "      <td>0</td>\n",
              "      <td>0</td>\n",
              "      <td>0</td>\n",
              "      <td>0</td>\n",
              "      <td>0</td>\n",
              "      <td>0</td>\n",
              "      <td>0</td>\n",
              "      <td>0</td>\n",
              "      <td>0</td>\n",
              "      <td>0</td>\n",
              "      <td>0</td>\n",
              "      <td>0</td>\n",
              "      <td>0</td>\n",
              "      <td>0</td>\n",
              "      <td>0</td>\n",
              "      <td>...</td>\n",
              "      <td>0</td>\n",
              "      <td>0</td>\n",
              "      <td>0</td>\n",
              "      <td>0</td>\n",
              "      <td>0</td>\n",
              "      <td>0</td>\n",
              "      <td>0</td>\n",
              "      <td>0</td>\n",
              "      <td>0</td>\n",
              "      <td>0</td>\n",
              "      <td>0</td>\n",
              "      <td>0</td>\n",
              "      <td>0</td>\n",
              "      <td>0</td>\n",
              "      <td>0</td>\n",
              "      <td>0</td>\n",
              "      <td>0</td>\n",
              "      <td>0</td>\n",
              "      <td>0</td>\n",
              "      <td>0</td>\n",
              "      <td>0</td>\n",
              "      <td>0</td>\n",
              "      <td>0</td>\n",
              "      <td>0</td>\n",
              "      <td>0</td>\n",
              "      <td>0</td>\n",
              "      <td>0</td>\n",
              "      <td>0</td>\n",
              "      <td>0</td>\n",
              "      <td>0</td>\n",
              "      <td>0</td>\n",
              "      <td>0</td>\n",
              "      <td>0</td>\n",
              "      <td>0</td>\n",
              "      <td>0</td>\n",
              "      <td>0</td>\n",
              "      <td>0</td>\n",
              "      <td>0</td>\n",
              "      <td>0</td>\n",
              "      <td>0</td>\n",
              "    </tr>\n",
              "    <tr>\n",
              "      <th>13141</th>\n",
              "      <td>0</td>\n",
              "      <td>0</td>\n",
              "      <td>0</td>\n",
              "      <td>0</td>\n",
              "      <td>0</td>\n",
              "      <td>0</td>\n",
              "      <td>0</td>\n",
              "      <td>0</td>\n",
              "      <td>0</td>\n",
              "      <td>0</td>\n",
              "      <td>0</td>\n",
              "      <td>0</td>\n",
              "      <td>0</td>\n",
              "      <td>0</td>\n",
              "      <td>0</td>\n",
              "      <td>0</td>\n",
              "      <td>0</td>\n",
              "      <td>0</td>\n",
              "      <td>0</td>\n",
              "      <td>0</td>\n",
              "      <td>0</td>\n",
              "      <td>0</td>\n",
              "      <td>0</td>\n",
              "      <td>0</td>\n",
              "      <td>0</td>\n",
              "      <td>0</td>\n",
              "      <td>0</td>\n",
              "      <td>0</td>\n",
              "      <td>0</td>\n",
              "      <td>0</td>\n",
              "      <td>0</td>\n",
              "      <td>0</td>\n",
              "      <td>0</td>\n",
              "      <td>0</td>\n",
              "      <td>0</td>\n",
              "      <td>0</td>\n",
              "      <td>0</td>\n",
              "      <td>0</td>\n",
              "      <td>0</td>\n",
              "      <td>0</td>\n",
              "      <td>...</td>\n",
              "      <td>0</td>\n",
              "      <td>0</td>\n",
              "      <td>0</td>\n",
              "      <td>0</td>\n",
              "      <td>0</td>\n",
              "      <td>0</td>\n",
              "      <td>0</td>\n",
              "      <td>0</td>\n",
              "      <td>0</td>\n",
              "      <td>0</td>\n",
              "      <td>0</td>\n",
              "      <td>0</td>\n",
              "      <td>0</td>\n",
              "      <td>0</td>\n",
              "      <td>0</td>\n",
              "      <td>0</td>\n",
              "      <td>0</td>\n",
              "      <td>0</td>\n",
              "      <td>0</td>\n",
              "      <td>0</td>\n",
              "      <td>0</td>\n",
              "      <td>0</td>\n",
              "      <td>0</td>\n",
              "      <td>0</td>\n",
              "      <td>0</td>\n",
              "      <td>0</td>\n",
              "      <td>0</td>\n",
              "      <td>0</td>\n",
              "      <td>0</td>\n",
              "      <td>0</td>\n",
              "      <td>0</td>\n",
              "      <td>0</td>\n",
              "      <td>0</td>\n",
              "      <td>0</td>\n",
              "      <td>0</td>\n",
              "      <td>0</td>\n",
              "      <td>0</td>\n",
              "      <td>0</td>\n",
              "      <td>0</td>\n",
              "      <td>0</td>\n",
              "    </tr>\n",
              "  </tbody>\n",
              "</table>\n",
              "<p>3 rows × 785 columns</p>\n",
              "</div>"
            ],
            "text/plain": [
              "       label  pixel1  pixel2  pixel3  ...  pixel781  pixel782  pixel783  pixel784\n",
              "13055      0       0       0       0  ...         0         0         0         0\n",
              "5513       0       0       0       0  ...         0         0         0         0\n",
              "13141      0       0       0       0  ...         0         0         0         0\n",
              "\n",
              "[3 rows x 785 columns]"
            ]
          },
          "metadata": {},
          "execution_count": 3
        }
      ]
    },
    {
      "cell_type": "code",
      "metadata": {
        "id": "rXYtjPBp7vt9"
      },
      "source": [
        "# Create a list of Labels to use as name os the Label\n",
        "class_names = ['Sneaker', 'Ankle boot']"
      ],
      "execution_count": 4,
      "outputs": []
    },
    {
      "cell_type": "code",
      "metadata": {
        "id": "r_axN62yM3mi"
      },
      "source": [
        "# Group the Labels and Count\n",
        "df_count_labels = df_images.groupby(by=['label'], as_index=False)['label'].count()"
      ],
      "execution_count": 5,
      "outputs": []
    },
    {
      "cell_type": "code",
      "metadata": {
        "colab": {
          "base_uri": "https://localhost:8080/"
        },
        "id": "b2X3WI2_2uid",
        "outputId": "487ae424-677b-4902-ac89-790af1d8e186"
      },
      "source": [
        "# How many samples are images of sneakers [1 point]?\n",
        "# How many samples are images of ankle boots [1 point]?\n",
        "# For loop to print the 2 labels\n",
        "for i in range(0,2):\n",
        "  print(f' There are: {df_count_labels.iloc[i][0]} {class_names[i]}')"
      ],
      "execution_count": 6,
      "outputs": [
        {
          "output_type": "stream",
          "name": "stdout",
          "text": [
            " There are: 7000 Sneaker\n",
            " There are: 7000 Ankle boot\n"
          ]
        }
      ]
    },
    {
      "cell_type": "code",
      "metadata": {
        "id": "pdQyzMon8lvR"
      },
      "source": [
        "# Parameterise the number of samples to use from the dataset in order to be able to control the runtime of the algorithm evaluation [1 point]. \n",
        "def sample_control(sample_number):\n",
        "  # Check the Max of samples available\n",
        "  max_sample = df_images.shape[0]\n",
        "  if sample_number > max_sample:\n",
        "    # Controling to the sample number never be greater than the Dataset size\n",
        "    sample_number = max_sample\n",
        "  # Create recursive loop to make sure at least one Sneaker and one Uncle Boots are in the sample file\n",
        "  # Display at least one image for each class [2 points].\n",
        "  minium_labels = False\n",
        "  while minium_labels is not True:\n",
        "    df = df_images.sample(sample_number).copy()\n",
        "    minium_labels = len(set(df['label'])) >= 2\n",
        "  # Separate the labels [1 point] \n",
        "  # from the feature vectors [1 point]\n",
        "  # Separate the labels from the feature vectors\n",
        "  # Keep only Labels\n",
        "  images_label = np.array(df['label'].copy())\n",
        "  # Drop column Labels keeping only features\n",
        "  images_pixels = np.array(df.drop(columns=['label']))\n",
        "  print(images_label.shape, images_pixels.shape)\n",
        "  return images_pixels, images_label"
      ],
      "execution_count": 7,
      "outputs": []
    },
    {
      "cell_type": "code",
      "metadata": {
        "colab": {
          "base_uri": "https://localhost:8080/"
        },
        "id": "JiPj_aJDbA1i",
        "outputId": "17cc4a8b-a858-4bfa-ed9f-136e4b247d3a"
      },
      "source": [
        "# Call Sample of 5 to print five images\n",
        "# Start developing using a small number of samples, and increase for the final evaluation.\n",
        "images_pixels, images_label = sample_control(5)"
      ],
      "execution_count": 8,
      "outputs": [
        {
          "output_type": "stream",
          "name": "stdout",
          "text": [
            "(5,) (5, 784)\n"
          ]
        }
      ]
    },
    {
      "cell_type": "markdown",
      "source": [
        "Interpolation is off of the request, however, it is a good information to know.\n",
        "<p>Interpolation Examples: <p>https://matplotlib.org/stable/gallery/images_contours_and_fields/interpolation_methods.html"
      ],
      "metadata": {
        "id": "DaRV8vwKs6tZ"
      }
    },
    {
      "cell_type": "code",
      "metadata": {
        "id": "s_Ns8E_BVz-b"
      },
      "source": [
        "# Create an Interpolation List\n",
        "interpolation_list = [\n",
        "                      'None', 'none', 'nearest', 'bilinear', 'bicubic', 'spline16',\n",
        "                      'spline36', 'hanning', 'hermite', 'kaiser', 'quadric',\n",
        "                      'catrom', 'gaussian', 'bessel', 'mitchell', 'sinc', 'lanczos'\n",
        "                      ]"
      ],
      "execution_count": 9,
      "outputs": []
    },
    {
      "cell_type": "markdown",
      "source": [
        "Plot First Image showing the diference between the Interpolation option list"
      ],
      "metadata": {
        "id": "-f5YfHL8tWEa"
      }
    },
    {
      "cell_type": "code",
      "metadata": {
        "colab": {
          "base_uri": "https://localhost:8080/",
          "height": 133
        },
        "id": "rhIMMs__Vehi",
        "outputId": "5c10d079-3417-4a40-bb1e-263accccf2b4"
      },
      "source": [
        "# Creating subplot to run throught for loop\n",
        "fig, axes = plt.subplots(\n",
        "    # Number of rows\n",
        "    nrows=1,\n",
        "    # Number of columns based on the Interpolation List size\n",
        "    ncols=len(interpolation_list),\n",
        "    # Plot size\n",
        "    figsize=(48, 24)\n",
        "    )\n",
        "# Create imame position List\n",
        "i = 0\n",
        "# For loop to run over the images dataset, subplots and image position\n",
        "print(f'Plot the image for one {class_names[i]} to find the best Interpolation')\n",
        "for ax, interpolation_i in zip(axes, interpolation_list):\n",
        "  # reset axis\n",
        "  ax.set_axis_off()\n",
        "  ax.imshow(\n",
        "      # Base on the Position (i) print the Image doing a Reshape to 28 X 28\n",
        "      np.reshape(\n",
        "      images_pixels[i], newshape=(-1, 28, 28 )\n",
        "      # Taking only the First position of the Reshape out comes\n",
        "      )[0],\n",
        "      # Set the Plot to Gray\n",
        "      cmap=plt.cm.gray_r,\n",
        "      # Set the select interpolation\n",
        "      interpolation=interpolation_i\n",
        "      )\n",
        "  ax.set_title(f'Interpolation::\\n{interpolation_i}')"
      ],
      "execution_count": 10,
      "outputs": [
        {
          "output_type": "stream",
          "name": "stdout",
          "text": [
            "Plot the image for one Sneaker to find the best Interpolation\n"
          ]
        },
        {
          "output_type": "display_data",
          "data": {
            "image/png": "[encoded data removed]",
            "text/plain": [
              "<Figure size 3456x1728 with 17 Axes>"
            ]
          },
          "metadata": {
            "needs_background": "light"
          }
        }
      ]
    },
    {
      "cell_type": "markdown",
      "source": [
        "Selecting the best interpolation to interprete the Image"
      ],
      "metadata": {
        "id": "iJtHs91QtaSi"
      }
    },
    {
      "cell_type": "code",
      "metadata": {
        "id": "yM9NKmm8X9EM"
      },
      "source": [
        "# Best Interpolation for me was BESSEL\n",
        "best_inter = str(interpolation_list[13])"
      ],
      "execution_count": 11,
      "outputs": []
    },
    {
      "cell_type": "markdown",
      "source": [
        "Displaying 5 Images as requested"
      ],
      "metadata": {
        "id": "n8zi-T3zthXZ"
      }
    },
    {
      "cell_type": "code",
      "metadata": {
        "colab": {
          "base_uri": "https://localhost:8080/",
          "height": 278
        },
        "id": "bX_COppnVwsM",
        "outputId": "0b0330da-2ae4-4a44-b437-46511a376d10"
      },
      "source": [
        "# Display at least one image for each class [2 points].\n",
        "# Plot the first 5 images\n",
        "# Creating subplot to run throught the for loop\n",
        "fig, axes = plt.subplots(nrows=1, ncols=5, figsize=(24, 8))\n",
        "# Create imame position List\n",
        "i = [0, 1, 2, 3, 4]\n",
        "# For loop to run over the images dataset, subplots and image position\n",
        "for ax, image_in, i in zip(axes, images_pixels, i):\n",
        "  # reset axis\n",
        "  ax.set_axis_off()\n",
        "  ax.imshow(\n",
        "      # Base on the Position (i) print the Image doing a Reshape to 28 X 28\n",
        "      np.reshape(\n",
        "      image_in, newshape=(-1, 28, 28 )\n",
        "      # Taking only the First position of the Reshape out comes\n",
        "      )[0],\n",
        "      # Set the Plot to Gray\n",
        "      cmap=plt.cm.gray_r,\n",
        "      # Set the select interpolation\n",
        "      interpolation=best_inter\n",
        "      )\n",
        "  ax.set_title(f'Label is: {class_names[images_label[i]]}')"
      ],
      "execution_count": 12,
      "outputs": [
        {
          "output_type": "display_data",
          "data": {
            "image/png": "[encoded data removed]",
            "text/plain": [
              "<Figure size 1728x576 with 5 Axes>"
            ]
          },
          "metadata": {
            "needs_background": "light"
          }
        }
      ]
    },
    {
      "cell_type": "markdown",
      "source": [
        "Starting with Models Requested"
      ],
      "metadata": {
        "id": "X4OUJj6Ntp1q"
      }
    },
    {
      "cell_type": "markdown",
      "metadata": {
        "id": "AlkBaiUERhO0"
      },
      "source": [
        "## Model Preceptron"
      ]
    },
    {
      "cell_type": "markdown",
      "source": [
        "Create a funtion that runs all requested models."
      ],
      "metadata": {
        "id": "I_NGZxGLtwDP"
      }
    },
    {
      "cell_type": "code",
      "metadata": {
        "id": "vQlI3bYIuejh"
      },
      "source": [
        "# Create a Function to run the Models\n",
        "def run_requested_model(sample_size, kfold_max, model):\n",
        "  \n",
        "  # Call Sample Control to start\n",
        "  images_pixels, images_label = sample_control(sample_size)\n",
        "  \n",
        "  # Initialize the Variable to store Best Model Score\n",
        "  best_model_score = 0.0\n",
        "\n",
        "  # Store the Requested Model\n",
        "  model_name = f'Requested Model:: {model}'\n",
        "  \n",
        "  # Initialize the Percptron Model\n",
        "  model = model\n",
        "  \n",
        "  # Set the kfold based on the kfold_max variable requested by the user\n",
        "  cv_kfold = KFold(n_splits=kfold_max, random_state=1, shuffle=True)\n",
        "\n",
        "  # Create a Dictionary to store the Model Train time spent and Score\n",
        "  dict_train_time = dict()\n",
        "  dict_prediction_time = dict()\n",
        "  dict_accuracy_time = dict()\n",
        "  dict_accuracy_score = dict()\n",
        "\n",
        "  # Set i to controlling the kfold position\n",
        "  i = 1\n",
        "  \n",
        "  # Split the Data and run the model based on the kfold\n",
        "  for train, test in cv_kfold.split(images_pixels):\n",
        "    \n",
        "    # Store the start time for split the data\n",
        "    start = time()\n",
        "    \n",
        "    # Split the Data into Train and Test\n",
        "    X_train, X_test, y_train, y_test = images_pixels[train], images_pixels[test], images_label[train], images_label[test]\n",
        "    \n",
        "    # fit the Model using the train and test data from the Kfold\n",
        "    model = model.fit(X_train, y_train)\n",
        "\n",
        "    # Print the answer the time spent questions\n",
        "    print(\"x\"*30, model_name, f' Fold at {i}', \"x\"*30)\n",
        "    print(f'Train took\\t{time() - start:.4f} seconds')\n",
        "    # Append to the Dictionary the time spent\n",
        "    dict_train_time[i] = (time() - start)\n",
        "\n",
        "    # Store the start time for Predict\n",
        "    start = time()\n",
        "    # Create a variable to Store the Model Predict\n",
        "    y_predicted = model.predict(X_test)\n",
        "    # Append to the Dictionary the time spent for Predict\n",
        "    dict_prediction_time[i] = (time() - start)\n",
        "    # Print the answer the time spent questions\n",
        "    print(f'Prediction took\\t{time() - start:.4f} seconds')\n",
        "    # Print the answer the confusion matrix questions\n",
        "    print(\"x\"*40, \"Confusion Matrix\", \"x\"*40)\n",
        "    print(confusion_matrix(y_true=y_test, y_pred=y_predicted))\n",
        "    print(\"x\"*100)\n",
        "\n",
        "    # Store the start time for Predict\n",
        "    start = time()\n",
        "    # Create a variable to Store the Model Score\n",
        "    model_score = model.score(X_test, y_test)\n",
        "    # Append to the Dictionary the Score for diction accuracy\n",
        "    dict_accuracy_score[i] = model_score\n",
        "    # Append to the Dictionary the time spent for diction accuracy\n",
        "    dict_accuracy_time[i] = (time() - start)\n",
        "    # Print the answer the Accurary Score questions\n",
        "    print(f'Accuracy took\\t{time() - start:.4f} seconds')\n",
        "    print(f'Predictor Accurary\\t{model_score:.2%}')\n",
        "    print(\"x\"*100)\n",
        "    # Controling the Best Score\n",
        "    # If the active model is greater than the stored as the best\n",
        "    # replace the best score to the active one\n",
        "    if best_model_score < model_score:\n",
        "      # Store the best score\n",
        "      best_model_score = model_score\n",
        "      # Store the best time spent\n",
        "      best_time_spent = time() - start\n",
        "      # Store the best kfold\n",
        "      best_i = i\n",
        "      # Store the Best Train and Test index\n",
        "      best_train, best_test = train, test\n",
        "\n",
        "    # Controlling the kfold number  \n",
        "    i += 1\n",
        "  \n",
        "  # By the end of the kfold print al of the Best numbers\n",
        "  print(\"x\"*100)\n",
        "  print(f'Best Predictor took::\\t{best_time_spent:.4f} seconds')\n",
        "  print(f'Best Predictor Accurary::\\t{best_model_score:.2%}')\n",
        "  print(f'Best Predictor K-Fold split was::\\t{best_i}')\n",
        "  print(\"x\"*100)\n",
        "\n",
        "  # Return the dictionaries and the best train and test index from the best model and a list of Images and Images Label\n",
        "  return dict_accuracy_score, dict_train_time, dict_prediction_time, dict_accuracy_time, best_model_score, best_time_spent, best_i, best_train, best_test, images_pixels, images_label"
      ],
      "execution_count": 13,
      "outputs": []
    },
    {
      "cell_type": "markdown",
      "source": [
        "Call the First Model Perceptron:<p>Sample size as: 5k<p>Kfold as: 10"
      ],
      "metadata": {
        "id": "RWkAAdeevKj5"
      }
    },
    {
      "cell_type": "code",
      "metadata": {
        "colab": {
          "base_uri": "https://localhost:8080/"
        },
        "id": "K_1bf6Ca203J",
        "outputId": "fa3793c1-5ca3-4315-a736-c63eade0a44c"
      },
      "source": [
        "# To the Task 2 we need to call Perceptron\n",
        "# I choose sample size of 5k and kfold 10\n",
        "model_requested = Perceptron()\n",
        "sample_size_requested = 5000\n",
        "kfold_max_requested = 10\n",
        "# Call the function and store the returns into the correct variables to be used in the future\n",
        "perceptron_dict_accuracy_score_perc, perceptron_dict_train_time_perc, perceptron_dict_prediction_time_perc, perceptron_dict_accuracy_time_perc, best_model_score_perc, best_time_spent_perc, best_kfold_perc, best_train_perc, best_test_perc, images_pixels_perc, images_label_perc = run_requested_model(\n",
        "    sample_size=sample_size_requested,\n",
        "    kfold_max=kfold_max_requested,\n",
        "    model=model_requested)"
      ],
      "execution_count": 14,
      "outputs": [
        {
          "output_type": "stream",
          "name": "stdout",
          "text": [
            "(5000,) (5000, 784)\n",
            "xxxxxxxxxxxxxxxxxxxxxxxxxxxxxx Requested Model:: Perceptron()  Fold at 1 xxxxxxxxxxxxxxxxxxxxxxxxxxxxxx\n",
            "Train took\t0.2195 seconds\n",
            "Prediction took\t0.0020 seconds\n",
            "xxxxxxxxxxxxxxxxxxxxxxxxxxxxxxxxxxxxxxxx Confusion Matrix xxxxxxxxxxxxxxxxxxxxxxxxxxxxxxxxxxxxxxxx\n",
            "[[234  11]\n",
            " [  7 248]]\n",
            "xxxxxxxxxxxxxxxxxxxxxxxxxxxxxxxxxxxxxxxxxxxxxxxxxxxxxxxxxxxxxxxxxxxxxxxxxxxxxxxxxxxxxxxxxxxxxxxxxxxx\n",
            "Accuracy took\t0.0022 seconds\n",
            "Predictor Accurary\t96.40%\n",
            "xxxxxxxxxxxxxxxxxxxxxxxxxxxxxxxxxxxxxxxxxxxxxxxxxxxxxxxxxxxxxxxxxxxxxxxxxxxxxxxxxxxxxxxxxxxxxxxxxxxx\n",
            "xxxxxxxxxxxxxxxxxxxxxxxxxxxxxx Requested Model:: Perceptron()  Fold at 2 xxxxxxxxxxxxxxxxxxxxxxxxxxxxxx\n",
            "Train took\t0.2431 seconds\n",
            "Prediction took\t0.0024 seconds\n",
            "xxxxxxxxxxxxxxxxxxxxxxxxxxxxxxxxxxxxxxxx Confusion Matrix xxxxxxxxxxxxxxxxxxxxxxxxxxxxxxxxxxxxxxxx\n",
            "[[238  14]\n",
            " [  7 241]]\n",
            "xxxxxxxxxxxxxxxxxxxxxxxxxxxxxxxxxxxxxxxxxxxxxxxxxxxxxxxxxxxxxxxxxxxxxxxxxxxxxxxxxxxxxxxxxxxxxxxxxxxx\n",
            "Accuracy took\t0.0019 seconds\n",
            "Predictor Accurary\t95.80%\n",
            "xxxxxxxxxxxxxxxxxxxxxxxxxxxxxxxxxxxxxxxxxxxxxxxxxxxxxxxxxxxxxxxxxxxxxxxxxxxxxxxxxxxxxxxxxxxxxxxxxxxx\n",
            "xxxxxxxxxxxxxxxxxxxxxxxxxxxxxx Requested Model:: Perceptron()  Fold at 3 xxxxxxxxxxxxxxxxxxxxxxxxxxxxxx\n",
            "Train took\t0.1418 seconds\n",
            "Prediction took\t0.0015 seconds\n",
            "xxxxxxxxxxxxxxxxxxxxxxxxxxxxxxxxxxxxxxxx Confusion Matrix xxxxxxxxxxxxxxxxxxxxxxxxxxxxxxxxxxxxxxxx\n",
            "[[240   0]\n",
            " [ 51 209]]\n",
            "xxxxxxxxxxxxxxxxxxxxxxxxxxxxxxxxxxxxxxxxxxxxxxxxxxxxxxxxxxxxxxxxxxxxxxxxxxxxxxxxxxxxxxxxxxxxxxxxxxxx\n",
            "Accuracy took\t0.0018 seconds\n",
            "Predictor Accurary\t89.80%\n",
            "xxxxxxxxxxxxxxxxxxxxxxxxxxxxxxxxxxxxxxxxxxxxxxxxxxxxxxxxxxxxxxxxxxxxxxxxxxxxxxxxxxxxxxxxxxxxxxxxxxxx\n",
            "xxxxxxxxxxxxxxxxxxxxxxxxxxxxxx Requested Model:: Perceptron()  Fold at 4 xxxxxxxxxxxxxxxxxxxxxxxxxxxxxx\n",
            "Train took\t0.2262 seconds\n",
            "Prediction took\t0.0017 seconds\n",
            "xxxxxxxxxxxxxxxxxxxxxxxxxxxxxxxxxxxxxxxx Confusion Matrix xxxxxxxxxxxxxxxxxxxxxxxxxxxxxxxxxxxxxxxx\n",
            "[[214  18]\n",
            " [  5 263]]\n",
            "xxxxxxxxxxxxxxxxxxxxxxxxxxxxxxxxxxxxxxxxxxxxxxxxxxxxxxxxxxxxxxxxxxxxxxxxxxxxxxxxxxxxxxxxxxxxxxxxxxxx\n",
            "Accuracy took\t0.0020 seconds\n",
            "Predictor Accurary\t95.40%\n",
            "xxxxxxxxxxxxxxxxxxxxxxxxxxxxxxxxxxxxxxxxxxxxxxxxxxxxxxxxxxxxxxxxxxxxxxxxxxxxxxxxxxxxxxxxxxxxxxxxxxxx\n",
            "xxxxxxxxxxxxxxxxxxxxxxxxxxxxxx Requested Model:: Perceptron()  Fold at 5 xxxxxxxxxxxxxxxxxxxxxxxxxxxxxx\n",
            "Train took\t0.2407 seconds\n",
            "Prediction took\t0.0030 seconds\n",
            "xxxxxxxxxxxxxxxxxxxxxxxxxxxxxxxxxxxxxxxx Confusion Matrix xxxxxxxxxxxxxxxxxxxxxxxxxxxxxxxxxxxxxxxx\n",
            "[[268   7]\n",
            " [ 26 199]]\n",
            "xxxxxxxxxxxxxxxxxxxxxxxxxxxxxxxxxxxxxxxxxxxxxxxxxxxxxxxxxxxxxxxxxxxxxxxxxxxxxxxxxxxxxxxxxxxxxxxxxxxx\n",
            "Accuracy took\t0.0022 seconds\n",
            "Predictor Accurary\t93.40%\n",
            "xxxxxxxxxxxxxxxxxxxxxxxxxxxxxxxxxxxxxxxxxxxxxxxxxxxxxxxxxxxxxxxxxxxxxxxxxxxxxxxxxxxxxxxxxxxxxxxxxxxx\n",
            "xxxxxxxxxxxxxxxxxxxxxxxxxxxxxx Requested Model:: Perceptron()  Fold at 6 xxxxxxxxxxxxxxxxxxxxxxxxxxxxxx\n",
            "Train took\t0.3306 seconds\n",
            "Prediction took\t0.0042 seconds\n",
            "xxxxxxxxxxxxxxxxxxxxxxxxxxxxxxxxxxxxxxxx Confusion Matrix xxxxxxxxxxxxxxxxxxxxxxxxxxxxxxxxxxxxxxxx\n",
            "[[230   3]\n",
            " [ 26 241]]\n",
            "xxxxxxxxxxxxxxxxxxxxxxxxxxxxxxxxxxxxxxxxxxxxxxxxxxxxxxxxxxxxxxxxxxxxxxxxxxxxxxxxxxxxxxxxxxxxxxxxxxxx\n",
            "Accuracy took\t0.0018 seconds\n",
            "Predictor Accurary\t94.20%\n",
            "xxxxxxxxxxxxxxxxxxxxxxxxxxxxxxxxxxxxxxxxxxxxxxxxxxxxxxxxxxxxxxxxxxxxxxxxxxxxxxxxxxxxxxxxxxxxxxxxxxxx\n",
            "xxxxxxxxxxxxxxxxxxxxxxxxxxxxxx Requested Model:: Perceptron()  Fold at 7 xxxxxxxxxxxxxxxxxxxxxxxxxxxxxx\n",
            "Train took\t0.3213 seconds\n",
            "Prediction took\t0.0014 seconds\n",
            "xxxxxxxxxxxxxxxxxxxxxxxxxxxxxxxxxxxxxxxx Confusion Matrix xxxxxxxxxxxxxxxxxxxxxxxxxxxxxxxxxxxxxxxx\n",
            "[[208  29]\n",
            " [  4 259]]\n",
            "xxxxxxxxxxxxxxxxxxxxxxxxxxxxxxxxxxxxxxxxxxxxxxxxxxxxxxxxxxxxxxxxxxxxxxxxxxxxxxxxxxxxxxxxxxxxxxxxxxxx\n",
            "Accuracy took\t0.0020 seconds\n",
            "Predictor Accurary\t93.40%\n",
            "xxxxxxxxxxxxxxxxxxxxxxxxxxxxxxxxxxxxxxxxxxxxxxxxxxxxxxxxxxxxxxxxxxxxxxxxxxxxxxxxxxxxxxxxxxxxxxxxxxxx\n",
            "xxxxxxxxxxxxxxxxxxxxxxxxxxxxxx Requested Model:: Perceptron()  Fold at 8 xxxxxxxxxxxxxxxxxxxxxxxxxxxxxx\n",
            "Train took\t0.1638 seconds\n",
            "Prediction took\t0.0018 seconds\n",
            "xxxxxxxxxxxxxxxxxxxxxxxxxxxxxxxxxxxxxxxx Confusion Matrix xxxxxxxxxxxxxxxxxxxxxxxxxxxxxxxxxxxxxxxx\n",
            "[[230  18]\n",
            " [  8 244]]\n",
            "xxxxxxxxxxxxxxxxxxxxxxxxxxxxxxxxxxxxxxxxxxxxxxxxxxxxxxxxxxxxxxxxxxxxxxxxxxxxxxxxxxxxxxxxxxxxxxxxxxxx\n",
            "Accuracy took\t0.0028 seconds\n",
            "Predictor Accurary\t94.80%\n",
            "xxxxxxxxxxxxxxxxxxxxxxxxxxxxxxxxxxxxxxxxxxxxxxxxxxxxxxxxxxxxxxxxxxxxxxxxxxxxxxxxxxxxxxxxxxxxxxxxxxxx\n",
            "xxxxxxxxxxxxxxxxxxxxxxxxxxxxxx Requested Model:: Perceptron()  Fold at 9 xxxxxxxxxxxxxxxxxxxxxxxxxxxxxx\n",
            "Train took\t0.2330 seconds\n",
            "Prediction took\t0.0014 seconds\n",
            "xxxxxxxxxxxxxxxxxxxxxxxxxxxxxxxxxxxxxxxx Confusion Matrix xxxxxxxxxxxxxxxxxxxxxxxxxxxxxxxxxxxxxxxx\n",
            "[[228  30]\n",
            " [  3 239]]\n",
            "xxxxxxxxxxxxxxxxxxxxxxxxxxxxxxxxxxxxxxxxxxxxxxxxxxxxxxxxxxxxxxxxxxxxxxxxxxxxxxxxxxxxxxxxxxxxxxxxxxxx\n",
            "Accuracy took\t0.0019 seconds\n",
            "Predictor Accurary\t93.40%\n",
            "xxxxxxxxxxxxxxxxxxxxxxxxxxxxxxxxxxxxxxxxxxxxxxxxxxxxxxxxxxxxxxxxxxxxxxxxxxxxxxxxxxxxxxxxxxxxxxxxxxxx\n",
            "xxxxxxxxxxxxxxxxxxxxxxxxxxxxxx Requested Model:: Perceptron()  Fold at 10 xxxxxxxxxxxxxxxxxxxxxxxxxxxxxx\n",
            "Train took\t0.2268 seconds\n",
            "Prediction took\t0.0049 seconds\n",
            "xxxxxxxxxxxxxxxxxxxxxxxxxxxxxxxxxxxxxxxx Confusion Matrix xxxxxxxxxxxxxxxxxxxxxxxxxxxxxxxxxxxxxxxx\n",
            "[[221  26]\n",
            " [  5 248]]\n",
            "xxxxxxxxxxxxxxxxxxxxxxxxxxxxxxxxxxxxxxxxxxxxxxxxxxxxxxxxxxxxxxxxxxxxxxxxxxxxxxxxxxxxxxxxxxxxxxxxxxxx\n",
            "Accuracy took\t0.0018 seconds\n",
            "Predictor Accurary\t93.80%\n",
            "xxxxxxxxxxxxxxxxxxxxxxxxxxxxxxxxxxxxxxxxxxxxxxxxxxxxxxxxxxxxxxxxxxxxxxxxxxxxxxxxxxxxxxxxxxxxxxxxxxxx\n",
            "xxxxxxxxxxxxxxxxxxxxxxxxxxxxxxxxxxxxxxxxxxxxxxxxxxxxxxxxxxxxxxxxxxxxxxxxxxxxxxxxxxxxxxxxxxxxxxxxxxxx\n",
            "Best Predictor took::\t0.0023 seconds\n",
            "Best Predictor Accurary::\t96.40%\n",
            "Best Predictor K-Fold split was::\t1\n",
            "xxxxxxxxxxxxxxxxxxxxxxxxxxxxxxxxxxxxxxxxxxxxxxxxxxxxxxxxxxxxxxxxxxxxxxxxxxxxxxxxxxxxxxxxxxxxxxxxxxxx\n"
          ]
        }
      ]
    },
    {
      "cell_type": "markdown",
      "source": [
        "Create a function that measures the outcome dictionaries and print it"
      ],
      "metadata": {
        "id": "-cvbY0qZvwmR"
      }
    },
    {
      "cell_type": "code",
      "metadata": {
        "id": "56XJfjvzXJRO"
      },
      "source": [
        "def calculate_time_spent(dict_train_time, dict_prediction_time, dict_accuracy_time, dict_accuracy_score):\n",
        "    \n",
        "  # Create a list of the Disctionaries and list of the Measures\n",
        "  list_of_dicts = dict_train_time, dict_prediction_time, dict_accuracy_time\n",
        "  list_of_dicts_name = [\"Train\", \"Prediction\", \"Accurary\"]\n",
        "  print(\"x\"*100)\n",
        "  # Print the Minimum, Maximum and Average\n",
        "  # Calculate the minimum, the maximum, and the average of the training/prediction/prediction accuracy time for each sample\n",
        "  # Initialize a list to return vectors of the time spent\n",
        "  list_of_df_time_spent = []\n",
        "  # Measure time spent\n",
        "  for dicts_i, names_i in zip(list_of_dicts, list_of_dicts_name):\n",
        "    df_time_measure = pd.DataFrame.from_dict(dicts_i, orient='index')\n",
        "    df_time_measure.rename(columns={0: f'time_spent_{names_i}'}, inplace=True)\n",
        "    time_measure_min = np.min(df_time_measure[f'time_spent_{names_i}'])\n",
        "    time_measure_max = np.max(df_time_measure[f'time_spent_{names_i}'])\n",
        "    time_measure_avg = np.mean(df_time_measure[f'time_spent_{names_i}'])\n",
        "    # Transform the Dataframe to an numpy array\n",
        "    list_of_df_time_spent.append(np.array(df_time_measure))\n",
        "    print(f'The minimum time for {names_i} was {time_measure_min:.4f} seconds')\n",
        "    print(f'The maximum time for {names_i} was {time_measure_max:.4f} seconds')\n",
        "    print(f'The average time for {names_i} was {time_measure_avg:.4f} seconds')\n",
        "    print(\"x\"*100)\n",
        "  \n",
        "  # Measure Accurary\n",
        "  df_acc_measure = pd.DataFrame.from_dict(dict_accuracy_score, orient='index')\n",
        "  df_acc_measure.rename(columns={0: 'Accurary'}, inplace=True)\n",
        "  acc_measure_min = np.min(df_acc_measure[\"Accurary\"])\n",
        "  acc_measure_max = np.max(df_acc_measure[\"Accurary\"])\n",
        "  acc_measure_avg = np.mean(df_acc_measure[\"Accurary\"])\n",
        "  # Transform the Dataframe to an numpy array\n",
        "  list_of_df_time_spent.append(np.array(df_acc_measure))\n",
        "  print(f'The minimum Score was {acc_measure_min:.2%}')\n",
        "  print(f'The maximum Score was {acc_measure_max:.2%}')\n",
        "  print(f'The average Score was {acc_measure_avg:.2%}')\n",
        "  print(\"x\"*100)\n",
        "  \n",
        "  # Return all 3 requested data frames as numpy array\n",
        "  return list_of_df_time_spent"
      ],
      "execution_count": 15,
      "outputs": []
    },
    {
      "cell_type": "markdown",
      "source": [
        "Call print/measure function passing the dictionaries from the Perceptron runs"
      ],
      "metadata": {
        "id": "FJUBewvuv-fJ"
      }
    },
    {
      "cell_type": "code",
      "metadata": {
        "colab": {
          "base_uri": "https://localhost:8080/"
        },
        "id": "d049ialGa7fB",
        "outputId": "9bc3cc3a-25f0-4966-c44d-a4dc0bc6f152"
      },
      "source": [
        "# Task 2 Get the Time Measures\n",
        "list_of_df_timed = calculate_time_spent(\n",
        "    perceptron_dict_train_time_perc, perceptron_dict_prediction_time_perc, perceptron_dict_accuracy_time_perc, perceptron_dict_accuracy_score_perc\n",
        "    )"
      ],
      "execution_count": 16,
      "outputs": [
        {
          "output_type": "stream",
          "name": "stdout",
          "text": [
            "xxxxxxxxxxxxxxxxxxxxxxxxxxxxxxxxxxxxxxxxxxxxxxxxxxxxxxxxxxxxxxxxxxxxxxxxxxxxxxxxxxxxxxxxxxxxxxxxxxxx\n",
            "The minimum time for Train was 0.1420 seconds\n",
            "The maximum time for Train was 0.3306 seconds\n",
            "The average time for Train was 0.2348 seconds\n",
            "xxxxxxxxxxxxxxxxxxxxxxxxxxxxxxxxxxxxxxxxxxxxxxxxxxxxxxxxxxxxxxxxxxxxxxxxxxxxxxxxxxxxxxxxxxxxxxxxxxxx\n",
            "The minimum time for Prediction was 0.0014 seconds\n",
            "The maximum time for Prediction was 0.0049 seconds\n",
            "The average time for Prediction was 0.0024 seconds\n",
            "xxxxxxxxxxxxxxxxxxxxxxxxxxxxxxxxxxxxxxxxxxxxxxxxxxxxxxxxxxxxxxxxxxxxxxxxxxxxxxxxxxxxxxxxxxxxxxxxxxxx\n",
            "The minimum time for Accurary was 0.0018 seconds\n",
            "The maximum time for Accurary was 0.0028 seconds\n",
            "The average time for Accurary was 0.0020 seconds\n",
            "xxxxxxxxxxxxxxxxxxxxxxxxxxxxxxxxxxxxxxxxxxxxxxxxxxxxxxxxxxxxxxxxxxxxxxxxxxxxxxxxxxxxxxxxxxxxxxxxxxxx\n",
            "The minimum Score was 89.80%\n",
            "The maximum Score was 96.40%\n",
            "The average Score was 94.04%\n",
            "xxxxxxxxxxxxxxxxxxxxxxxxxxxxxxxxxxxxxxxxxxxxxxxxxxxxxxxxxxxxxxxxxxxxxxxxxxxxxxxxxxxxxxxxxxxxxxxxxxxx\n"
          ]
        }
      ]
    },
    {
      "cell_type": "markdown",
      "source": [
        "Transform the Dictionaries into a Data Frame"
      ],
      "metadata": {
        "id": "7EMjEVSywI05"
      }
    },
    {
      "cell_type": "code",
      "metadata": {
        "colab": {
          "base_uri": "https://localhost:8080/",
          "height": 363
        },
        "id": "xEFgfTh0DnfZ",
        "outputId": "c7d10a7c-204f-4625-83f7-8986e8db068f"
      },
      "source": [
        "# Create a Dataframe with the time measures for the Perceptron\n",
        "df_timed_perc = pd.DataFrame()\n",
        "# df_timed_perc = pd.DataFrame(np.array(list_of_df_timed).reshape(-1, 4))\n",
        "for i in range(0,len(list_of_df_timed)):\n",
        "  df_timed_perc[f'Shape_{i}'] = np.array(list_of_df_timed[i]).reshape(-1)\n",
        "\n",
        "df_timed_perc.rename(columns={\"Shape_0\": \"Train_Time\", \"Shape_1\": \"Prediction_Time\", \"Shape_2\": \"Accurary_Time\", \"Shape_3\": \"Accuray_Score\"}, inplace=True)\n",
        "df_timed_perc['Best_KFold'] = best_kfold_perc\n",
        "df_timed_perc['Model_Name'] = \"Perceptron\"\n",
        "df_timed_perc"
      ],
      "execution_count": 17,
      "outputs": [
        {
          "output_type": "execute_result",
          "data": {
            "text/html": [
              "<div>\n",
              "<style scoped>\n",
              "    .dataframe tbody tr th:only-of-type {\n",
              "        vertical-align: middle;\n",
              "    }\n",
              "\n",
              "    .dataframe tbody tr th {\n",
              "        vertical-align: top;\n",
              "    }\n",
              "\n",
              "    .dataframe thead th {\n",
              "        text-align: right;\n",
              "    }\n",
              "</style>\n",
              "<table border=\"1\" class=\"dataframe\">\n",
              "  <thead>\n",
              "    <tr style=\"text-align: right;\">\n",
              "      <th></th>\n",
              "      <th>Train_Time</th>\n",
              "      <th>Prediction_Time</th>\n",
              "      <th>Accurary_Time</th>\n",
              "      <th>Accuray_Score</th>\n",
              "      <th>Best_KFold</th>\n",
              "      <th>Model_Name</th>\n",
              "    </tr>\n",
              "  </thead>\n",
              "  <tbody>\n",
              "    <tr>\n",
              "      <th>0</th>\n",
              "      <td>0.219556</td>\n",
              "      <td>0.002016</td>\n",
              "      <td>0.002153</td>\n",
              "      <td>0.964</td>\n",
              "      <td>1</td>\n",
              "      <td>Perceptron</td>\n",
              "    </tr>\n",
              "    <tr>\n",
              "      <th>1</th>\n",
              "      <td>0.243327</td>\n",
              "      <td>0.002411</td>\n",
              "      <td>0.001912</td>\n",
              "      <td>0.958</td>\n",
              "      <td>1</td>\n",
              "      <td>Perceptron</td>\n",
              "    </tr>\n",
              "    <tr>\n",
              "      <th>2</th>\n",
              "      <td>0.142000</td>\n",
              "      <td>0.001479</td>\n",
              "      <td>0.001843</td>\n",
              "      <td>0.898</td>\n",
              "      <td>1</td>\n",
              "      <td>Perceptron</td>\n",
              "    </tr>\n",
              "    <tr>\n",
              "      <th>3</th>\n",
              "      <td>0.226227</td>\n",
              "      <td>0.001708</td>\n",
              "      <td>0.001968</td>\n",
              "      <td>0.954</td>\n",
              "      <td>1</td>\n",
              "      <td>Perceptron</td>\n",
              "    </tr>\n",
              "    <tr>\n",
              "      <th>4</th>\n",
              "      <td>0.240752</td>\n",
              "      <td>0.003002</td>\n",
              "      <td>0.002208</td>\n",
              "      <td>0.934</td>\n",
              "      <td>1</td>\n",
              "      <td>Perceptron</td>\n",
              "    </tr>\n",
              "    <tr>\n",
              "      <th>5</th>\n",
              "      <td>0.330590</td>\n",
              "      <td>0.004171</td>\n",
              "      <td>0.001838</td>\n",
              "      <td>0.942</td>\n",
              "      <td>1</td>\n",
              "      <td>Perceptron</td>\n",
              "    </tr>\n",
              "    <tr>\n",
              "      <th>6</th>\n",
              "      <td>0.321549</td>\n",
              "      <td>0.001408</td>\n",
              "      <td>0.002033</td>\n",
              "      <td>0.934</td>\n",
              "      <td>1</td>\n",
              "      <td>Perceptron</td>\n",
              "    </tr>\n",
              "    <tr>\n",
              "      <th>7</th>\n",
              "      <td>0.163844</td>\n",
              "      <td>0.001754</td>\n",
              "      <td>0.002841</td>\n",
              "      <td>0.948</td>\n",
              "      <td>1</td>\n",
              "      <td>Perceptron</td>\n",
              "    </tr>\n",
              "    <tr>\n",
              "      <th>8</th>\n",
              "      <td>0.233203</td>\n",
              "      <td>0.001410</td>\n",
              "      <td>0.001866</td>\n",
              "      <td>0.934</td>\n",
              "      <td>1</td>\n",
              "      <td>Perceptron</td>\n",
              "    </tr>\n",
              "    <tr>\n",
              "      <th>9</th>\n",
              "      <td>0.226810</td>\n",
              "      <td>0.004929</td>\n",
              "      <td>0.001835</td>\n",
              "      <td>0.938</td>\n",
              "      <td>1</td>\n",
              "      <td>Perceptron</td>\n",
              "    </tr>\n",
              "  </tbody>\n",
              "</table>\n",
              "</div>"
            ],
            "text/plain": [
              "   Train_Time  Prediction_Time  ...  Best_KFold  Model_Name\n",
              "0    0.219556         0.002016  ...           1  Perceptron\n",
              "1    0.243327         0.002411  ...           1  Perceptron\n",
              "2    0.142000         0.001479  ...           1  Perceptron\n",
              "3    0.226227         0.001708  ...           1  Perceptron\n",
              "4    0.240752         0.003002  ...           1  Perceptron\n",
              "5    0.330590         0.004171  ...           1  Perceptron\n",
              "6    0.321549         0.001408  ...           1  Perceptron\n",
              "7    0.163844         0.001754  ...           1  Perceptron\n",
              "8    0.233203         0.001410  ...           1  Perceptron\n",
              "9    0.226810         0.004929  ...           1  Perceptron\n",
              "\n",
              "[10 rows x 6 columns]"
            ]
          },
          "metadata": {},
          "execution_count": 17
        }
      ]
    },
    {
      "cell_type": "markdown",
      "metadata": {
        "id": "epIOTsL0s6nk"
      },
      "source": [
        "## Print the best Mesures Accurary, Confusion Matric, Precision, Recall and f1-score"
      ]
    },
    {
      "cell_type": "code",
      "metadata": {
        "id": "AP0PRpGg5F5t"
      },
      "source": [
        "# Create the Best Train and Test data\n",
        "best_X_train, best_X_test, best_y_train, best_y_test = images_pixels_perc[best_train_perc], images_pixels_perc[best_test_perc], images_label_perc[best_train_perc], images_label_perc[best_test_perc]"
      ],
      "execution_count": 18,
      "outputs": []
    },
    {
      "cell_type": "code",
      "metadata": {
        "colab": {
          "base_uri": "https://localhost:8080/"
        },
        "id": "SX1tIC4J-Tcc",
        "outputId": "8084cf56-9b88-431a-e526-f24a18e9a107"
      },
      "source": [
        "model_requested = model_requested.fit(best_X_train, best_y_train)\n",
        "best_y_predicted = model_requested.predict(best_X_test)\n",
        "model_requested.score(best_X_test, best_y_test)"
      ],
      "execution_count": 19,
      "outputs": [
        {
          "output_type": "execute_result",
          "data": {
            "text/plain": [
              "0.964"
            ]
          },
          "metadata": {},
          "execution_count": 19
        }
      ]
    },
    {
      "cell_type": "code",
      "metadata": {
        "colab": {
          "base_uri": "https://localhost:8080/"
        },
        "id": "CVzCFObiputZ",
        "outputId": "207b710d-72cb-4a11-8f40-251553c72963"
      },
      "source": [
        "print(confusion_matrix(y_true=best_y_test, y_pred=best_y_predicted))"
      ],
      "execution_count": 20,
      "outputs": [
        {
          "output_type": "stream",
          "name": "stdout",
          "text": [
            "[[234  11]\n",
            " [  7 248]]\n"
          ]
        }
      ]
    },
    {
      "cell_type": "code",
      "metadata": {
        "colab": {
          "base_uri": "https://localhost:8080/"
        },
        "id": "PraWzXI-rttd",
        "outputId": "56aab6e2-fa23-414c-d34a-b14b99f65b7c"
      },
      "source": [
        "print(classification_report(y_true=best_y_test, y_pred=best_y_predicted))"
      ],
      "execution_count": 21,
      "outputs": [
        {
          "output_type": "stream",
          "name": "stdout",
          "text": [
            "              precision    recall  f1-score   support\n",
            "\n",
            "           0       0.97      0.96      0.96       245\n",
            "           1       0.96      0.97      0.96       255\n",
            "\n",
            "    accuracy                           0.96       500\n",
            "   macro avg       0.96      0.96      0.96       500\n",
            "weighted avg       0.96      0.96      0.96       500\n",
            "\n"
          ]
        }
      ]
    },
    {
      "cell_type": "markdown",
      "metadata": {
        "id": "bpkYPzhbvsnD"
      },
      "source": [
        "# Use a sufficient number of splits and vary the number of samples to observe the effect on runtime and accuracy [1 point]."
      ]
    },
    {
      "cell_type": "markdown",
      "source": [
        "Just to make sure the kfold won't be 1"
      ],
      "metadata": {
        "id": "5Rczb7XowTgS"
      }
    },
    {
      "cell_type": "code",
      "source": [
        "# Kfold split needs to be greater than 1\n",
        "# In caso of 1 set to 2\n",
        "if best_kfold_perc == 1:\n",
        "  best_kfold_perc = 2"
      ],
      "metadata": {
        "id": "eQBdif54hyBy"
      },
      "execution_count": 22,
      "outputs": []
    },
    {
      "cell_type": "markdown",
      "source": [
        "Call the First Model Perceptron:<p>Sample size as: 15k<p>Kfold as: Best kfold from the previous model"
      ],
      "metadata": {
        "id": "zRoIub1dwY5C"
      }
    },
    {
      "cell_type": "code",
      "metadata": {
        "colab": {
          "base_uri": "https://localhost:8080/"
        },
        "id": "WkzwUplqvv8Y",
        "outputId": "72afc122-07a6-4814-efb6-53a6fa95291f"
      },
      "source": [
        "# To the Task 2 we need to call Perceptron\n",
        "# For the last question I have used sample size of 15k and kfold the best_kfold\n",
        "model_requested = Perceptron()\n",
        "sample_size_requested = 15000\n",
        "kfold_max_requested = best_kfold_perc\n",
        "perceptron_dict_accuracy_score_final, perceptron_dict_train_time_final, perceptron_dict_prediction_time_final, perceptron_dict_accuracy_time_final, best_model_score_final, best_time_spent_final, best_kfold_final, best_train_final, best_test_final, images_pixels_final, images_label_final = run_requested_model(\n",
        "    sample_size=sample_size_requested,\n",
        "    kfold_max=kfold_max_requested,\n",
        "    model=model_requested)"
      ],
      "execution_count": 23,
      "outputs": [
        {
          "output_type": "stream",
          "name": "stdout",
          "text": [
            "(14000,) (14000, 784)\n",
            "xxxxxxxxxxxxxxxxxxxxxxxxxxxxxx Requested Model:: Perceptron()  Fold at 1 xxxxxxxxxxxxxxxxxxxxxxxxxxxxxx\n",
            "Train took\t0.5192 seconds\n",
            "Prediction took\t0.0139 seconds\n",
            "xxxxxxxxxxxxxxxxxxxxxxxxxxxxxxxxxxxxxxxx Confusion Matrix xxxxxxxxxxxxxxxxxxxxxxxxxxxxxxxxxxxxxxxx\n",
            "[[2952  525]\n",
            " [  23 3500]]\n",
            "xxxxxxxxxxxxxxxxxxxxxxxxxxxxxxxxxxxxxxxxxxxxxxxxxxxxxxxxxxxxxxxxxxxxxxxxxxxxxxxxxxxxxxxxxxxxxxxxxxxx\n",
            "Accuracy took\t0.0166 seconds\n",
            "Predictor Accurary\t92.17%\n",
            "xxxxxxxxxxxxxxxxxxxxxxxxxxxxxxxxxxxxxxxxxxxxxxxxxxxxxxxxxxxxxxxxxxxxxxxxxxxxxxxxxxxxxxxxxxxxxxxxxxxx\n",
            "xxxxxxxxxxxxxxxxxxxxxxxxxxxxxx Requested Model:: Perceptron()  Fold at 2 xxxxxxxxxxxxxxxxxxxxxxxxxxxxxx\n",
            "Train took\t0.3255 seconds\n",
            "Prediction took\t0.0134 seconds\n",
            "xxxxxxxxxxxxxxxxxxxxxxxxxxxxxxxxxxxxxxxx Confusion Matrix xxxxxxxxxxxxxxxxxxxxxxxxxxxxxxxxxxxxxxxx\n",
            "[[2823  700]\n",
            " [  19 3458]]\n",
            "xxxxxxxxxxxxxxxxxxxxxxxxxxxxxxxxxxxxxxxxxxxxxxxxxxxxxxxxxxxxxxxxxxxxxxxxxxxxxxxxxxxxxxxxxxxxxxxxxxxx\n",
            "Accuracy took\t0.0231 seconds\n",
            "Predictor Accurary\t89.73%\n",
            "xxxxxxxxxxxxxxxxxxxxxxxxxxxxxxxxxxxxxxxxxxxxxxxxxxxxxxxxxxxxxxxxxxxxxxxxxxxxxxxxxxxxxxxxxxxxxxxxxxxx\n",
            "xxxxxxxxxxxxxxxxxxxxxxxxxxxxxxxxxxxxxxxxxxxxxxxxxxxxxxxxxxxxxxxxxxxxxxxxxxxxxxxxxxxxxxxxxxxxxxxxxxxx\n",
            "Best Predictor took::\t0.0178 seconds\n",
            "Best Predictor Accurary::\t92.17%\n",
            "Best Predictor K-Fold split was::\t1\n",
            "xxxxxxxxxxxxxxxxxxxxxxxxxxxxxxxxxxxxxxxxxxxxxxxxxxxxxxxxxxxxxxxxxxxxxxxxxxxxxxxxxxxxxxxxxxxxxxxxxxxx\n"
          ]
        }
      ]
    },
    {
      "cell_type": "markdown",
      "source": [
        "Transform the Dictionaries into a Data Frame"
      ],
      "metadata": {
        "id": "bO2Ox5jkwtoh"
      }
    },
    {
      "cell_type": "code",
      "metadata": {
        "colab": {
          "base_uri": "https://localhost:8080/"
        },
        "id": "tcA0UxFiC2wd",
        "outputId": "17b1f845-4214-4085-f6d9-730cf2321483"
      },
      "source": [
        "# Task 2 Get the Time Measures for the final question\n",
        "list_of_df_timed = calculate_time_spent(\n",
        "    perceptron_dict_train_time_final, perceptron_dict_prediction_time_final, perceptron_dict_accuracy_time_final, perceptron_dict_accuracy_score_final\n",
        "    )"
      ],
      "execution_count": 24,
      "outputs": [
        {
          "output_type": "stream",
          "name": "stdout",
          "text": [
            "xxxxxxxxxxxxxxxxxxxxxxxxxxxxxxxxxxxxxxxxxxxxxxxxxxxxxxxxxxxxxxxxxxxxxxxxxxxxxxxxxxxxxxxxxxxxxxxxxxxx\n",
            "The minimum time for Train was 0.3255 seconds\n",
            "The maximum time for Train was 0.5193 seconds\n",
            "The average time for Train was 0.4224 seconds\n",
            "xxxxxxxxxxxxxxxxxxxxxxxxxxxxxxxxxxxxxxxxxxxxxxxxxxxxxxxxxxxxxxxxxxxxxxxxxxxxxxxxxxxxxxxxxxxxxxxxxxxx\n",
            "The minimum time for Prediction was 0.0134 seconds\n",
            "The maximum time for Prediction was 0.0139 seconds\n",
            "The average time for Prediction was 0.0136 seconds\n",
            "xxxxxxxxxxxxxxxxxxxxxxxxxxxxxxxxxxxxxxxxxxxxxxxxxxxxxxxxxxxxxxxxxxxxxxxxxxxxxxxxxxxxxxxxxxxxxxxxxxxx\n",
            "The minimum time for Accurary was 0.0165 seconds\n",
            "The maximum time for Accurary was 0.0231 seconds\n",
            "The average time for Accurary was 0.0198 seconds\n",
            "xxxxxxxxxxxxxxxxxxxxxxxxxxxxxxxxxxxxxxxxxxxxxxxxxxxxxxxxxxxxxxxxxxxxxxxxxxxxxxxxxxxxxxxxxxxxxxxxxxxx\n",
            "The minimum Score was 89.73%\n",
            "The maximum Score was 92.17%\n",
            "The average Score was 90.95%\n",
            "xxxxxxxxxxxxxxxxxxxxxxxxxxxxxxxxxxxxxxxxxxxxxxxxxxxxxxxxxxxxxxxxxxxxxxxxxxxxxxxxxxxxxxxxxxxxxxxxxxxx\n"
          ]
        }
      ]
    },
    {
      "cell_type": "markdown",
      "source": [
        "Transform the Dictionaries into a Data Frame"
      ],
      "metadata": {
        "id": "Xm0GU5IAw5RB"
      }
    },
    {
      "cell_type": "code",
      "metadata": {
        "colab": {
          "base_uri": "https://localhost:8080/",
          "height": 112
        },
        "id": "rnlX2rCPHfkV",
        "outputId": "ae2022d7-1208-4039-9641-00a9841b6699"
      },
      "source": [
        "# Create a Dataframe with the time measures for the Perceptron Final\n",
        "df_timed_perc_final = pd.DataFrame()\n",
        "# df_timed_perc = pd.DataFrame(np.array(list_of_df_timed).reshape(-1, 4))\n",
        "for i in range(0,len(list_of_df_timed)):\n",
        "  df_timed_perc_final[f'Shape_{i}'] = np.array(list_of_df_timed[i]).reshape(-1)\n",
        "df_timed_perc_final.rename(columns={\"Shape_0\": \"Train_Time\", \"Shape_1\": \"Prediction_Time\", \"Shape_2\": \"Accurary_Time\", \"Shape_3\": \"Accuray_Score\"}, inplace=True)\n",
        "df_timed_perc_final['Best_KFold'] = best_kfold_final\n",
        "df_timed_perc_final['Model_Name'] = \"Perceptron Final\"\n",
        "df_timed_perc_final"
      ],
      "execution_count": 25,
      "outputs": [
        {
          "output_type": "execute_result",
          "data": {
            "text/html": [
              "<div>\n",
              "<style scoped>\n",
              "    .dataframe tbody tr th:only-of-type {\n",
              "        vertical-align: middle;\n",
              "    }\n",
              "\n",
              "    .dataframe tbody tr th {\n",
              "        vertical-align: top;\n",
              "    }\n",
              "\n",
              "    .dataframe thead th {\n",
              "        text-align: right;\n",
              "    }\n",
              "</style>\n",
              "<table border=\"1\" class=\"dataframe\">\n",
              "  <thead>\n",
              "    <tr style=\"text-align: right;\">\n",
              "      <th></th>\n",
              "      <th>Train_Time</th>\n",
              "      <th>Prediction_Time</th>\n",
              "      <th>Accurary_Time</th>\n",
              "      <th>Accuray_Score</th>\n",
              "      <th>Best_KFold</th>\n",
              "      <th>Model_Name</th>\n",
              "    </tr>\n",
              "  </thead>\n",
              "  <tbody>\n",
              "    <tr>\n",
              "      <th>0</th>\n",
              "      <td>0.519267</td>\n",
              "      <td>0.013919</td>\n",
              "      <td>0.016549</td>\n",
              "      <td>0.921714</td>\n",
              "      <td>1</td>\n",
              "      <td>Perceptron Final</td>\n",
              "    </tr>\n",
              "    <tr>\n",
              "      <th>1</th>\n",
              "      <td>0.325544</td>\n",
              "      <td>0.013355</td>\n",
              "      <td>0.023137</td>\n",
              "      <td>0.897286</td>\n",
              "      <td>1</td>\n",
              "      <td>Perceptron Final</td>\n",
              "    </tr>\n",
              "  </tbody>\n",
              "</table>\n",
              "</div>"
            ],
            "text/plain": [
              "   Train_Time  Prediction_Time  ...  Best_KFold        Model_Name\n",
              "0    0.519267         0.013919  ...           1  Perceptron Final\n",
              "1    0.325544         0.013355  ...           1  Perceptron Final\n",
              "\n",
              "[2 rows x 6 columns]"
            ]
          },
          "metadata": {},
          "execution_count": 25
        }
      ]
    },
    {
      "cell_type": "markdown",
      "metadata": {
        "id": "rUlKTbFU9gtr"
      },
      "source": [
        "## Task 3 Support Vector Machine (SVM)"
      ]
    },
    {
      "cell_type": "markdown",
      "metadata": {
        "id": "eW_HPOv-IglI"
      },
      "source": [
        "SVM Linear Model"
      ]
    },
    {
      "cell_type": "code",
      "metadata": {
        "colab": {
          "base_uri": "https://localhost:8080/"
        },
        "id": "UCBSRXTq9no-",
        "outputId": "d2bfec84-c312-429c-eab5-0ba3235ad532"
      },
      "source": [
        "# To the Task 3 we need to call SVM\n",
        "# I choose sample size of 5k and kfold 10\n",
        "# Option One kernel='linear'\n",
        "model_requested = svm.SVC(kernel='linear')\n",
        "sample_size_requested = 5000\n",
        "kfold_max_requested = 10\n",
        "svm_dict_accuracy_score_linear, svm_dict_train_time_linear, svm_dict_prediction_time_linear, svm_dict_accuracy_time_linear, best_model_score_linear, best_time_spent_linear, best_kfold_linear, best_train_linear, best_test_linear, images_pixels_linear, images_label_linear = run_requested_model(\n",
        "    sample_size=sample_size_requested,\n",
        "    kfold_max=kfold_max_requested,\n",
        "    model=model_requested)"
      ],
      "execution_count": 26,
      "outputs": [
        {
          "output_type": "stream",
          "name": "stdout",
          "text": [
            "(5000,) (5000, 784)\n",
            "xxxxxxxxxxxxxxxxxxxxxxxxxxxxxx Requested Model:: SVC(kernel='linear')  Fold at 1 xxxxxxxxxxxxxxxxxxxxxxxxxxxxxx\n",
            "Train took\t2.9021 seconds\n",
            "Prediction took\t0.0561 seconds\n",
            "xxxxxxxxxxxxxxxxxxxxxxxxxxxxxxxxxxxxxxxx Confusion Matrix xxxxxxxxxxxxxxxxxxxxxxxxxxxxxxxxxxxxxxxx\n",
            "[[221  20]\n",
            " [ 13 246]]\n",
            "xxxxxxxxxxxxxxxxxxxxxxxxxxxxxxxxxxxxxxxxxxxxxxxxxxxxxxxxxxxxxxxxxxxxxxxxxxxxxxxxxxxxxxxxxxxxxxxxxxxx\n",
            "Accuracy took\t0.0501 seconds\n",
            "Predictor Accurary\t93.40%\n",
            "xxxxxxxxxxxxxxxxxxxxxxxxxxxxxxxxxxxxxxxxxxxxxxxxxxxxxxxxxxxxxxxxxxxxxxxxxxxxxxxxxxxxxxxxxxxxxxxxxxxx\n",
            "xxxxxxxxxxxxxxxxxxxxxxxxxxxxxx Requested Model:: SVC(kernel='linear')  Fold at 2 xxxxxxxxxxxxxxxxxxxxxxxxxxxxxx\n",
            "Train took\t3.2016 seconds\n",
            "Prediction took\t0.0550 seconds\n",
            "xxxxxxxxxxxxxxxxxxxxxxxxxxxxxxxxxxxxxxxx Confusion Matrix xxxxxxxxxxxxxxxxxxxxxxxxxxxxxxxxxxxxxxxx\n",
            "[[249  17]\n",
            " [  8 226]]\n",
            "xxxxxxxxxxxxxxxxxxxxxxxxxxxxxxxxxxxxxxxxxxxxxxxxxxxxxxxxxxxxxxxxxxxxxxxxxxxxxxxxxxxxxxxxxxxxxxxxxxxx\n",
            "Accuracy took\t0.0518 seconds\n",
            "Predictor Accurary\t95.00%\n",
            "xxxxxxxxxxxxxxxxxxxxxxxxxxxxxxxxxxxxxxxxxxxxxxxxxxxxxxxxxxxxxxxxxxxxxxxxxxxxxxxxxxxxxxxxxxxxxxxxxxxx\n",
            "xxxxxxxxxxxxxxxxxxxxxxxxxxxxxx Requested Model:: SVC(kernel='linear')  Fold at 3 xxxxxxxxxxxxxxxxxxxxxxxxxxxxxx\n",
            "Train took\t2.8650 seconds\n",
            "Prediction took\t0.0538 seconds\n",
            "xxxxxxxxxxxxxxxxxxxxxxxxxxxxxxxxxxxxxxxx Confusion Matrix xxxxxxxxxxxxxxxxxxxxxxxxxxxxxxxxxxxxxxxx\n",
            "[[235  21]\n",
            " [ 22 222]]\n",
            "xxxxxxxxxxxxxxxxxxxxxxxxxxxxxxxxxxxxxxxxxxxxxxxxxxxxxxxxxxxxxxxxxxxxxxxxxxxxxxxxxxxxxxxxxxxxxxxxxxxx\n",
            "Accuracy took\t0.0495 seconds\n",
            "Predictor Accurary\t91.40%\n",
            "xxxxxxxxxxxxxxxxxxxxxxxxxxxxxxxxxxxxxxxxxxxxxxxxxxxxxxxxxxxxxxxxxxxxxxxxxxxxxxxxxxxxxxxxxxxxxxxxxxxx\n",
            "xxxxxxxxxxxxxxxxxxxxxxxxxxxxxx Requested Model:: SVC(kernel='linear')  Fold at 4 xxxxxxxxxxxxxxxxxxxxxxxxxxxxxx\n",
            "Train took\t2.7499 seconds\n",
            "Prediction took\t0.0540 seconds\n",
            "xxxxxxxxxxxxxxxxxxxxxxxxxxxxxxxxxxxxxxxx Confusion Matrix xxxxxxxxxxxxxxxxxxxxxxxxxxxxxxxxxxxxxxxx\n",
            "[[234  18]\n",
            " [ 19 229]]\n",
            "xxxxxxxxxxxxxxxxxxxxxxxxxxxxxxxxxxxxxxxxxxxxxxxxxxxxxxxxxxxxxxxxxxxxxxxxxxxxxxxxxxxxxxxxxxxxxxxxxxxx\n",
            "Accuracy took\t0.0560 seconds\n",
            "Predictor Accurary\t92.60%\n",
            "xxxxxxxxxxxxxxxxxxxxxxxxxxxxxxxxxxxxxxxxxxxxxxxxxxxxxxxxxxxxxxxxxxxxxxxxxxxxxxxxxxxxxxxxxxxxxxxxxxxx\n",
            "xxxxxxxxxxxxxxxxxxxxxxxxxxxxxx Requested Model:: SVC(kernel='linear')  Fold at 5 xxxxxxxxxxxxxxxxxxxxxxxxxxxxxx\n",
            "Train took\t2.3412 seconds\n",
            "Prediction took\t0.0512 seconds\n",
            "xxxxxxxxxxxxxxxxxxxxxxxxxxxxxxxxxxxxxxxx Confusion Matrix xxxxxxxxxxxxxxxxxxxxxxxxxxxxxxxxxxxxxxxx\n",
            "[[238  20]\n",
            " [ 13 229]]\n",
            "xxxxxxxxxxxxxxxxxxxxxxxxxxxxxxxxxxxxxxxxxxxxxxxxxxxxxxxxxxxxxxxxxxxxxxxxxxxxxxxxxxxxxxxxxxxxxxxxxxxx\n",
            "Accuracy took\t0.0544 seconds\n",
            "Predictor Accurary\t93.40%\n",
            "xxxxxxxxxxxxxxxxxxxxxxxxxxxxxxxxxxxxxxxxxxxxxxxxxxxxxxxxxxxxxxxxxxxxxxxxxxxxxxxxxxxxxxxxxxxxxxxxxxxx\n",
            "xxxxxxxxxxxxxxxxxxxxxxxxxxxxxx Requested Model:: SVC(kernel='linear')  Fold at 6 xxxxxxxxxxxxxxxxxxxxxxxxxxxxxx\n",
            "Train took\t2.8758 seconds\n",
            "Prediction took\t0.0531 seconds\n",
            "xxxxxxxxxxxxxxxxxxxxxxxxxxxxxxxxxxxxxxxx Confusion Matrix xxxxxxxxxxxxxxxxxxxxxxxxxxxxxxxxxxxxxxxx\n",
            "[[228  13]\n",
            " [ 14 245]]\n",
            "xxxxxxxxxxxxxxxxxxxxxxxxxxxxxxxxxxxxxxxxxxxxxxxxxxxxxxxxxxxxxxxxxxxxxxxxxxxxxxxxxxxxxxxxxxxxxxxxxxxx\n",
            "Accuracy took\t0.0517 seconds\n",
            "Predictor Accurary\t94.60%\n",
            "xxxxxxxxxxxxxxxxxxxxxxxxxxxxxxxxxxxxxxxxxxxxxxxxxxxxxxxxxxxxxxxxxxxxxxxxxxxxxxxxxxxxxxxxxxxxxxxxxxxx\n",
            "xxxxxxxxxxxxxxxxxxxxxxxxxxxxxx Requested Model:: SVC(kernel='linear')  Fold at 7 xxxxxxxxxxxxxxxxxxxxxxxxxxxxxx\n",
            "Train took\t2.8955 seconds\n",
            "Prediction took\t0.0499 seconds\n",
            "xxxxxxxxxxxxxxxxxxxxxxxxxxxxxxxxxxxxxxxx Confusion Matrix xxxxxxxxxxxxxxxxxxxxxxxxxxxxxxxxxxxxxxxx\n",
            "[[234  21]\n",
            " [ 14 231]]\n",
            "xxxxxxxxxxxxxxxxxxxxxxxxxxxxxxxxxxxxxxxxxxxxxxxxxxxxxxxxxxxxxxxxxxxxxxxxxxxxxxxxxxxxxxxxxxxxxxxxxxxx\n",
            "Accuracy took\t0.0444 seconds\n",
            "Predictor Accurary\t93.00%\n",
            "xxxxxxxxxxxxxxxxxxxxxxxxxxxxxxxxxxxxxxxxxxxxxxxxxxxxxxxxxxxxxxxxxxxxxxxxxxxxxxxxxxxxxxxxxxxxxxxxxxxx\n",
            "xxxxxxxxxxxxxxxxxxxxxxxxxxxxxx Requested Model:: SVC(kernel='linear')  Fold at 8 xxxxxxxxxxxxxxxxxxxxxxxxxxxxxx\n",
            "Train took\t2.9714 seconds\n",
            "Prediction took\t0.0551 seconds\n",
            "xxxxxxxxxxxxxxxxxxxxxxxxxxxxxxxxxxxxxxxx Confusion Matrix xxxxxxxxxxxxxxxxxxxxxxxxxxxxxxxxxxxxxxxx\n",
            "[[235  18]\n",
            " [ 13 234]]\n",
            "xxxxxxxxxxxxxxxxxxxxxxxxxxxxxxxxxxxxxxxxxxxxxxxxxxxxxxxxxxxxxxxxxxxxxxxxxxxxxxxxxxxxxxxxxxxxxxxxxxxx\n",
            "Accuracy took\t0.0561 seconds\n",
            "Predictor Accurary\t93.80%\n",
            "xxxxxxxxxxxxxxxxxxxxxxxxxxxxxxxxxxxxxxxxxxxxxxxxxxxxxxxxxxxxxxxxxxxxxxxxxxxxxxxxxxxxxxxxxxxxxxxxxxxx\n",
            "xxxxxxxxxxxxxxxxxxxxxxxxxxxxxx Requested Model:: SVC(kernel='linear')  Fold at 9 xxxxxxxxxxxxxxxxxxxxxxxxxxxxxx\n",
            "Train took\t2.7765 seconds\n",
            "Prediction took\t0.0554 seconds\n",
            "xxxxxxxxxxxxxxxxxxxxxxxxxxxxxxxxxxxxxxxx Confusion Matrix xxxxxxxxxxxxxxxxxxxxxxxxxxxxxxxxxxxxxxxx\n",
            "[[240  23]\n",
            " [  7 230]]\n",
            "xxxxxxxxxxxxxxxxxxxxxxxxxxxxxxxxxxxxxxxxxxxxxxxxxxxxxxxxxxxxxxxxxxxxxxxxxxxxxxxxxxxxxxxxxxxxxxxxxxxx\n",
            "Accuracy took\t0.0539 seconds\n",
            "Predictor Accurary\t94.00%\n",
            "xxxxxxxxxxxxxxxxxxxxxxxxxxxxxxxxxxxxxxxxxxxxxxxxxxxxxxxxxxxxxxxxxxxxxxxxxxxxxxxxxxxxxxxxxxxxxxxxxxxx\n",
            "xxxxxxxxxxxxxxxxxxxxxxxxxxxxxx Requested Model:: SVC(kernel='linear')  Fold at 10 xxxxxxxxxxxxxxxxxxxxxxxxxxxxxx\n",
            "Train took\t3.0697 seconds\n",
            "Prediction took\t0.0611 seconds\n",
            "xxxxxxxxxxxxxxxxxxxxxxxxxxxxxxxxxxxxxxxx Confusion Matrix xxxxxxxxxxxxxxxxxxxxxxxxxxxxxxxxxxxxxxxx\n",
            "[[242  11]\n",
            " [ 18 229]]\n",
            "xxxxxxxxxxxxxxxxxxxxxxxxxxxxxxxxxxxxxxxxxxxxxxxxxxxxxxxxxxxxxxxxxxxxxxxxxxxxxxxxxxxxxxxxxxxxxxxxxxxx\n",
            "Accuracy took\t0.0578 seconds\n",
            "Predictor Accurary\t94.20%\n",
            "xxxxxxxxxxxxxxxxxxxxxxxxxxxxxxxxxxxxxxxxxxxxxxxxxxxxxxxxxxxxxxxxxxxxxxxxxxxxxxxxxxxxxxxxxxxxxxxxxxxx\n",
            "xxxxxxxxxxxxxxxxxxxxxxxxxxxxxxxxxxxxxxxxxxxxxxxxxxxxxxxxxxxxxxxxxxxxxxxxxxxxxxxxxxxxxxxxxxxxxxxxxxxx\n",
            "Best Predictor took::\t0.0519 seconds\n",
            "Best Predictor Accurary::\t95.00%\n",
            "Best Predictor K-Fold split was::\t2\n",
            "xxxxxxxxxxxxxxxxxxxxxxxxxxxxxxxxxxxxxxxxxxxxxxxxxxxxxxxxxxxxxxxxxxxxxxxxxxxxxxxxxxxxxxxxxxxxxxxxxxxx\n"
          ]
        }
      ]
    },
    {
      "cell_type": "code",
      "metadata": {
        "colab": {
          "base_uri": "https://localhost:8080/"
        },
        "id": "BB-Q0exaBub-",
        "outputId": "28db874b-969a-4273-ce1b-dfd79ddaafdf"
      },
      "source": [
        "# Task 3 Get the Time Measures for the SVM Linear Model\n",
        "list_of_df_timed = calculate_time_spent(\n",
        "    svm_dict_train_time_linear, svm_dict_prediction_time_linear, svm_dict_accuracy_time_linear, svm_dict_accuracy_score_linear\n",
        "    )"
      ],
      "execution_count": 27,
      "outputs": [
        {
          "output_type": "stream",
          "name": "stdout",
          "text": [
            "xxxxxxxxxxxxxxxxxxxxxxxxxxxxxxxxxxxxxxxxxxxxxxxxxxxxxxxxxxxxxxxxxxxxxxxxxxxxxxxxxxxxxxxxxxxxxxxxxxxx\n",
            "The minimum time for Train was 2.3412 seconds\n",
            "The maximum time for Train was 3.2018 seconds\n",
            "The average time for Train was 2.8649 seconds\n",
            "xxxxxxxxxxxxxxxxxxxxxxxxxxxxxxxxxxxxxxxxxxxxxxxxxxxxxxxxxxxxxxxxxxxxxxxxxxxxxxxxxxxxxxxxxxxxxxxxxxxx\n",
            "The minimum time for Prediction was 0.0499 seconds\n",
            "The maximum time for Prediction was 0.0611 seconds\n",
            "The average time for Prediction was 0.0545 seconds\n",
            "xxxxxxxxxxxxxxxxxxxxxxxxxxxxxxxxxxxxxxxxxxxxxxxxxxxxxxxxxxxxxxxxxxxxxxxxxxxxxxxxxxxxxxxxxxxxxxxxxxxx\n",
            "The minimum time for Accurary was 0.0444 seconds\n",
            "The maximum time for Accurary was 0.0578 seconds\n",
            "The average time for Accurary was 0.0526 seconds\n",
            "xxxxxxxxxxxxxxxxxxxxxxxxxxxxxxxxxxxxxxxxxxxxxxxxxxxxxxxxxxxxxxxxxxxxxxxxxxxxxxxxxxxxxxxxxxxxxxxxxxxx\n",
            "The minimum Score was 91.40%\n",
            "The maximum Score was 95.00%\n",
            "The average Score was 93.54%\n",
            "xxxxxxxxxxxxxxxxxxxxxxxxxxxxxxxxxxxxxxxxxxxxxxxxxxxxxxxxxxxxxxxxxxxxxxxxxxxxxxxxxxxxxxxxxxxxxxxxxxxx\n"
          ]
        }
      ]
    },
    {
      "cell_type": "code",
      "metadata": {
        "colab": {
          "base_uri": "https://localhost:8080/",
          "height": 363
        },
        "id": "2pWJuRr_HqgH",
        "outputId": "f5176229-8eda-48a1-94db-ad515fe54f9d"
      },
      "source": [
        "# Create a Dataframe with the time measures for the SVM Linear Model\n",
        "df_timed_svm_linear = pd.DataFrame()\n",
        "# df_timed_perc = pd.DataFrame(np.array(list_of_df_timed).reshape(-1, 4))\n",
        "for i in range(0,len(list_of_df_timed)):\n",
        "  df_timed_svm_linear[f'Shape_{i}'] = np.array(list_of_df_timed[i]).reshape(-1)\n",
        "df_timed_svm_linear.rename(columns={\"Shape_0\": \"Train_Time\", \"Shape_1\": \"Prediction_Time\", \"Shape_2\": \"Accurary_Time\", \"Shape_3\": \"Accuray_Score\"}, inplace=True)\n",
        "df_timed_svm_linear['Best_KFold'] = best_kfold_linear\n",
        "df_timed_svm_linear['Model_Name'] = \"SVM Linear\"\n",
        "df_timed_svm_linear"
      ],
      "execution_count": 28,
      "outputs": [
        {
          "output_type": "execute_result",
          "data": {
            "text/html": [
              "<div>\n",
              "<style scoped>\n",
              "    .dataframe tbody tr th:only-of-type {\n",
              "        vertical-align: middle;\n",
              "    }\n",
              "\n",
              "    .dataframe tbody tr th {\n",
              "        vertical-align: top;\n",
              "    }\n",
              "\n",
              "    .dataframe thead th {\n",
              "        text-align: right;\n",
              "    }\n",
              "</style>\n",
              "<table border=\"1\" class=\"dataframe\">\n",
              "  <thead>\n",
              "    <tr style=\"text-align: right;\">\n",
              "      <th></th>\n",
              "      <th>Train_Time</th>\n",
              "      <th>Prediction_Time</th>\n",
              "      <th>Accurary_Time</th>\n",
              "      <th>Accuray_Score</th>\n",
              "      <th>Best_KFold</th>\n",
              "      <th>Model_Name</th>\n",
              "    </tr>\n",
              "  </thead>\n",
              "  <tbody>\n",
              "    <tr>\n",
              "      <th>0</th>\n",
              "      <td>2.902139</td>\n",
              "      <td>0.056076</td>\n",
              "      <td>0.050066</td>\n",
              "      <td>0.934</td>\n",
              "      <td>2</td>\n",
              "      <td>SVM Linear</td>\n",
              "    </tr>\n",
              "    <tr>\n",
              "      <th>1</th>\n",
              "      <td>3.201767</td>\n",
              "      <td>0.054979</td>\n",
              "      <td>0.051760</td>\n",
              "      <td>0.950</td>\n",
              "      <td>2</td>\n",
              "      <td>SVM Linear</td>\n",
              "    </tr>\n",
              "    <tr>\n",
              "      <th>2</th>\n",
              "      <td>2.865085</td>\n",
              "      <td>0.053787</td>\n",
              "      <td>0.049491</td>\n",
              "      <td>0.914</td>\n",
              "      <td>2</td>\n",
              "      <td>SVM Linear</td>\n",
              "    </tr>\n",
              "    <tr>\n",
              "      <th>3</th>\n",
              "      <td>2.749981</td>\n",
              "      <td>0.054037</td>\n",
              "      <td>0.056038</td>\n",
              "      <td>0.926</td>\n",
              "      <td>2</td>\n",
              "      <td>SVM Linear</td>\n",
              "    </tr>\n",
              "    <tr>\n",
              "      <th>4</th>\n",
              "      <td>2.341238</td>\n",
              "      <td>0.051230</td>\n",
              "      <td>0.054414</td>\n",
              "      <td>0.934</td>\n",
              "      <td>2</td>\n",
              "      <td>SVM Linear</td>\n",
              "    </tr>\n",
              "    <tr>\n",
              "      <th>5</th>\n",
              "      <td>2.875869</td>\n",
              "      <td>0.053132</td>\n",
              "      <td>0.051662</td>\n",
              "      <td>0.946</td>\n",
              "      <td>2</td>\n",
              "      <td>SVM Linear</td>\n",
              "    </tr>\n",
              "    <tr>\n",
              "      <th>6</th>\n",
              "      <td>2.895595</td>\n",
              "      <td>0.049889</td>\n",
              "      <td>0.044386</td>\n",
              "      <td>0.930</td>\n",
              "      <td>2</td>\n",
              "      <td>SVM Linear</td>\n",
              "    </tr>\n",
              "    <tr>\n",
              "      <th>7</th>\n",
              "      <td>2.971479</td>\n",
              "      <td>0.055062</td>\n",
              "      <td>0.056104</td>\n",
              "      <td>0.938</td>\n",
              "      <td>2</td>\n",
              "      <td>SVM Linear</td>\n",
              "    </tr>\n",
              "    <tr>\n",
              "      <th>8</th>\n",
              "      <td>2.776538</td>\n",
              "      <td>0.055423</td>\n",
              "      <td>0.053932</td>\n",
              "      <td>0.940</td>\n",
              "      <td>2</td>\n",
              "      <td>SVM Linear</td>\n",
              "    </tr>\n",
              "    <tr>\n",
              "      <th>9</th>\n",
              "      <td>3.069784</td>\n",
              "      <td>0.061078</td>\n",
              "      <td>0.057766</td>\n",
              "      <td>0.942</td>\n",
              "      <td>2</td>\n",
              "      <td>SVM Linear</td>\n",
              "    </tr>\n",
              "  </tbody>\n",
              "</table>\n",
              "</div>"
            ],
            "text/plain": [
              "   Train_Time  Prediction_Time  ...  Best_KFold  Model_Name\n",
              "0    2.902139         0.056076  ...           2  SVM Linear\n",
              "1    3.201767         0.054979  ...           2  SVM Linear\n",
              "2    2.865085         0.053787  ...           2  SVM Linear\n",
              "3    2.749981         0.054037  ...           2  SVM Linear\n",
              "4    2.341238         0.051230  ...           2  SVM Linear\n",
              "5    2.875869         0.053132  ...           2  SVM Linear\n",
              "6    2.895595         0.049889  ...           2  SVM Linear\n",
              "7    2.971479         0.055062  ...           2  SVM Linear\n",
              "8    2.776538         0.055423  ...           2  SVM Linear\n",
              "9    3.069784         0.061078  ...           2  SVM Linear\n",
              "\n",
              "[10 rows x 6 columns]"
            ]
          },
          "metadata": {},
          "execution_count": 28
        }
      ]
    },
    {
      "cell_type": "markdown",
      "metadata": {
        "id": "t9DBkVUuImxb"
      },
      "source": [
        "SVM RBF Model"
      ]
    },
    {
      "cell_type": "code",
      "metadata": {
        "colab": {
          "base_uri": "https://localhost:8080/"
        },
        "id": "XX82d81JIAAU",
        "outputId": "b74113f1-d4ae-4a2d-9b58-8714a605f617"
      },
      "source": [
        "# To the Task 3 we need to call SVM\n",
        "# I choose sample size of 5k and kfold 10\n",
        "# Option One kernel='rbf'\n",
        "model_requested = svm.SVC(kernel='rbf', gamma='scale')\n",
        "sample_size_requested = 5000\n",
        "kfold_max_requested = 10\n",
        "svm_dict_accuracy_score_rbf, svm_dict_train_time_rbf, svm_dict_prediction_time_rbf, svm_dict_accuracy_time_rbf, best_model_score_rbf, best_time_spent_rbf, best_kfold_rbf, best_train_rbf, best_test_rbf, images_pixels_rbf, images_label_rbf = run_requested_model(\n",
        "    sample_size=sample_size_requested,\n",
        "    kfold_max=kfold_max_requested,\n",
        "    model=model_requested)"
      ],
      "execution_count": 29,
      "outputs": [
        {
          "output_type": "stream",
          "name": "stdout",
          "text": [
            "(5000,) (5000, 784)\n",
            "xxxxxxxxxxxxxxxxxxxxxxxxxxxxxx Requested Model:: SVC()  Fold at 1 xxxxxxxxxxxxxxxxxxxxxxxxxxxxxx\n",
            "Train took\t2.4194 seconds\n",
            "Prediction took\t0.2103 seconds\n",
            "xxxxxxxxxxxxxxxxxxxxxxxxxxxxxxxxxxxxxxxx Confusion Matrix xxxxxxxxxxxxxxxxxxxxxxxxxxxxxxxxxxxxxxxx\n",
            "[[234   8]\n",
            " [ 10 248]]\n",
            "xxxxxxxxxxxxxxxxxxxxxxxxxxxxxxxxxxxxxxxxxxxxxxxxxxxxxxxxxxxxxxxxxxxxxxxxxxxxxxxxxxxxxxxxxxxxxxxxxxxx\n",
            "Accuracy took\t0.2185 seconds\n",
            "Predictor Accurary\t96.40%\n",
            "xxxxxxxxxxxxxxxxxxxxxxxxxxxxxxxxxxxxxxxxxxxxxxxxxxxxxxxxxxxxxxxxxxxxxxxxxxxxxxxxxxxxxxxxxxxxxxxxxxxx\n",
            "xxxxxxxxxxxxxxxxxxxxxxxxxxxxxx Requested Model:: SVC()  Fold at 2 xxxxxxxxxxxxxxxxxxxxxxxxxxxxxx\n",
            "Train took\t2.4070 seconds\n",
            "Prediction took\t0.2100 seconds\n",
            "xxxxxxxxxxxxxxxxxxxxxxxxxxxxxxxxxxxxxxxx Confusion Matrix xxxxxxxxxxxxxxxxxxxxxxxxxxxxxxxxxxxxxxxx\n",
            "[[240   9]\n",
            " [  6 245]]\n",
            "xxxxxxxxxxxxxxxxxxxxxxxxxxxxxxxxxxxxxxxxxxxxxxxxxxxxxxxxxxxxxxxxxxxxxxxxxxxxxxxxxxxxxxxxxxxxxxxxxxxx\n",
            "Accuracy took\t0.2119 seconds\n",
            "Predictor Accurary\t97.00%\n",
            "xxxxxxxxxxxxxxxxxxxxxxxxxxxxxxxxxxxxxxxxxxxxxxxxxxxxxxxxxxxxxxxxxxxxxxxxxxxxxxxxxxxxxxxxxxxxxxxxxxxx\n",
            "xxxxxxxxxxxxxxxxxxxxxxxxxxxxxx Requested Model:: SVC()  Fold at 3 xxxxxxxxxxxxxxxxxxxxxxxxxxxxxx\n",
            "Train took\t2.2788 seconds\n",
            "Prediction took\t0.2027 seconds\n",
            "xxxxxxxxxxxxxxxxxxxxxxxxxxxxxxxxxxxxxxxx Confusion Matrix xxxxxxxxxxxxxxxxxxxxxxxxxxxxxxxxxxxxxxxx\n",
            "[[236  11]\n",
            " [ 14 239]]\n",
            "xxxxxxxxxxxxxxxxxxxxxxxxxxxxxxxxxxxxxxxxxxxxxxxxxxxxxxxxxxxxxxxxxxxxxxxxxxxxxxxxxxxxxxxxxxxxxxxxxxxx\n",
            "Accuracy took\t0.2041 seconds\n",
            "Predictor Accurary\t95.00%\n",
            "xxxxxxxxxxxxxxxxxxxxxxxxxxxxxxxxxxxxxxxxxxxxxxxxxxxxxxxxxxxxxxxxxxxxxxxxxxxxxxxxxxxxxxxxxxxxxxxxxxxx\n",
            "xxxxxxxxxxxxxxxxxxxxxxxxxxxxxx Requested Model:: SVC()  Fold at 4 xxxxxxxxxxxxxxxxxxxxxxxxxxxxxx\n",
            "Train took\t2.2122 seconds\n",
            "Prediction took\t0.2094 seconds\n",
            "xxxxxxxxxxxxxxxxxxxxxxxxxxxxxxxxxxxxxxxx Confusion Matrix xxxxxxxxxxxxxxxxxxxxxxxxxxxxxxxxxxxxxxxx\n",
            "[[226  14]\n",
            " [ 16 244]]\n",
            "xxxxxxxxxxxxxxxxxxxxxxxxxxxxxxxxxxxxxxxxxxxxxxxxxxxxxxxxxxxxxxxxxxxxxxxxxxxxxxxxxxxxxxxxxxxxxxxxxxxx\n",
            "Accuracy took\t0.2176 seconds\n",
            "Predictor Accurary\t94.00%\n",
            "xxxxxxxxxxxxxxxxxxxxxxxxxxxxxxxxxxxxxxxxxxxxxxxxxxxxxxxxxxxxxxxxxxxxxxxxxxxxxxxxxxxxxxxxxxxxxxxxxxxx\n",
            "xxxxxxxxxxxxxxxxxxxxxxxxxxxxxx Requested Model:: SVC()  Fold at 5 xxxxxxxxxxxxxxxxxxxxxxxxxxxxxx\n",
            "Train took\t2.3125 seconds\n",
            "Prediction took\t0.2001 seconds\n",
            "xxxxxxxxxxxxxxxxxxxxxxxxxxxxxxxxxxxxxxxx Confusion Matrix xxxxxxxxxxxxxxxxxxxxxxxxxxxxxxxxxxxxxxxx\n",
            "[[258   9]\n",
            " [ 10 223]]\n",
            "xxxxxxxxxxxxxxxxxxxxxxxxxxxxxxxxxxxxxxxxxxxxxxxxxxxxxxxxxxxxxxxxxxxxxxxxxxxxxxxxxxxxxxxxxxxxxxxxxxxx\n",
            "Accuracy took\t0.2041 seconds\n",
            "Predictor Accurary\t96.20%\n",
            "xxxxxxxxxxxxxxxxxxxxxxxxxxxxxxxxxxxxxxxxxxxxxxxxxxxxxxxxxxxxxxxxxxxxxxxxxxxxxxxxxxxxxxxxxxxxxxxxxxxx\n",
            "xxxxxxxxxxxxxxxxxxxxxxxxxxxxxx Requested Model:: SVC()  Fold at 6 xxxxxxxxxxxxxxxxxxxxxxxxxxxxxx\n",
            "Train took\t2.3940 seconds\n",
            "Prediction took\t0.2023 seconds\n",
            "xxxxxxxxxxxxxxxxxxxxxxxxxxxxxxxxxxxxxxxx Confusion Matrix xxxxxxxxxxxxxxxxxxxxxxxxxxxxxxxxxxxxxxxx\n",
            "[[231  10]\n",
            " [ 10 249]]\n",
            "xxxxxxxxxxxxxxxxxxxxxxxxxxxxxxxxxxxxxxxxxxxxxxxxxxxxxxxxxxxxxxxxxxxxxxxxxxxxxxxxxxxxxxxxxxxxxxxxxxxx\n",
            "Accuracy took\t0.2010 seconds\n",
            "Predictor Accurary\t96.00%\n",
            "xxxxxxxxxxxxxxxxxxxxxxxxxxxxxxxxxxxxxxxxxxxxxxxxxxxxxxxxxxxxxxxxxxxxxxxxxxxxxxxxxxxxxxxxxxxxxxxxxxxx\n",
            "xxxxxxxxxxxxxxxxxxxxxxxxxxxxxx Requested Model:: SVC()  Fold at 7 xxxxxxxxxxxxxxxxxxxxxxxxxxxxxx\n",
            "Train took\t2.3050 seconds\n",
            "Prediction took\t0.2220 seconds\n",
            "xxxxxxxxxxxxxxxxxxxxxxxxxxxxxxxxxxxxxxxx Confusion Matrix xxxxxxxxxxxxxxxxxxxxxxxxxxxxxxxxxxxxxxxx\n",
            "[[243   5]\n",
            " [ 11 241]]\n",
            "xxxxxxxxxxxxxxxxxxxxxxxxxxxxxxxxxxxxxxxxxxxxxxxxxxxxxxxxxxxxxxxxxxxxxxxxxxxxxxxxxxxxxxxxxxxxxxxxxxxx\n",
            "Accuracy took\t0.2104 seconds\n",
            "Predictor Accurary\t96.80%\n",
            "xxxxxxxxxxxxxxxxxxxxxxxxxxxxxxxxxxxxxxxxxxxxxxxxxxxxxxxxxxxxxxxxxxxxxxxxxxxxxxxxxxxxxxxxxxxxxxxxxxxx\n",
            "xxxxxxxxxxxxxxxxxxxxxxxxxxxxxx Requested Model:: SVC()  Fold at 8 xxxxxxxxxxxxxxxxxxxxxxxxxxxxxx\n",
            "Train took\t2.3606 seconds\n",
            "Prediction took\t0.2092 seconds\n",
            "xxxxxxxxxxxxxxxxxxxxxxxxxxxxxxxxxxxxxxxx Confusion Matrix xxxxxxxxxxxxxxxxxxxxxxxxxxxxxxxxxxxxxxxx\n",
            "[[250   9]\n",
            " [ 11 230]]\n",
            "xxxxxxxxxxxxxxxxxxxxxxxxxxxxxxxxxxxxxxxxxxxxxxxxxxxxxxxxxxxxxxxxxxxxxxxxxxxxxxxxxxxxxxxxxxxxxxxxxxxx\n",
            "Accuracy took\t0.2107 seconds\n",
            "Predictor Accurary\t96.00%\n",
            "xxxxxxxxxxxxxxxxxxxxxxxxxxxxxxxxxxxxxxxxxxxxxxxxxxxxxxxxxxxxxxxxxxxxxxxxxxxxxxxxxxxxxxxxxxxxxxxxxxxx\n",
            "xxxxxxxxxxxxxxxxxxxxxxxxxxxxxx Requested Model:: SVC()  Fold at 9 xxxxxxxxxxxxxxxxxxxxxxxxxxxxxx\n",
            "Train took\t2.4217 seconds\n",
            "Prediction took\t0.2059 seconds\n",
            "xxxxxxxxxxxxxxxxxxxxxxxxxxxxxxxxxxxxxxxx Confusion Matrix xxxxxxxxxxxxxxxxxxxxxxxxxxxxxxxxxxxxxxxx\n",
            "[[237  10]\n",
            " [  7 246]]\n",
            "xxxxxxxxxxxxxxxxxxxxxxxxxxxxxxxxxxxxxxxxxxxxxxxxxxxxxxxxxxxxxxxxxxxxxxxxxxxxxxxxxxxxxxxxxxxxxxxxxxxx\n",
            "Accuracy took\t0.2110 seconds\n",
            "Predictor Accurary\t96.60%\n",
            "xxxxxxxxxxxxxxxxxxxxxxxxxxxxxxxxxxxxxxxxxxxxxxxxxxxxxxxxxxxxxxxxxxxxxxxxxxxxxxxxxxxxxxxxxxxxxxxxxxxx\n",
            "xxxxxxxxxxxxxxxxxxxxxxxxxxxxxx Requested Model:: SVC()  Fold at 10 xxxxxxxxxxxxxxxxxxxxxxxxxxxxxx\n",
            "Train took\t2.3046 seconds\n",
            "Prediction took\t0.2118 seconds\n",
            "xxxxxxxxxxxxxxxxxxxxxxxxxxxxxxxxxxxxxxxx Confusion Matrix xxxxxxxxxxxxxxxxxxxxxxxxxxxxxxxxxxxxxxxx\n",
            "[[251   9]\n",
            " [  7 233]]\n",
            "xxxxxxxxxxxxxxxxxxxxxxxxxxxxxxxxxxxxxxxxxxxxxxxxxxxxxxxxxxxxxxxxxxxxxxxxxxxxxxxxxxxxxxxxxxxxxxxxxxxx\n",
            "Accuracy took\t0.2071 seconds\n",
            "Predictor Accurary\t96.80%\n",
            "xxxxxxxxxxxxxxxxxxxxxxxxxxxxxxxxxxxxxxxxxxxxxxxxxxxxxxxxxxxxxxxxxxxxxxxxxxxxxxxxxxxxxxxxxxxxxxxxxxxx\n",
            "xxxxxxxxxxxxxxxxxxxxxxxxxxxxxxxxxxxxxxxxxxxxxxxxxxxxxxxxxxxxxxxxxxxxxxxxxxxxxxxxxxxxxxxxxxxxxxxxxxxx\n",
            "Best Predictor took::\t0.2128 seconds\n",
            "Best Predictor Accurary::\t97.00%\n",
            "Best Predictor K-Fold split was::\t2\n",
            "xxxxxxxxxxxxxxxxxxxxxxxxxxxxxxxxxxxxxxxxxxxxxxxxxxxxxxxxxxxxxxxxxxxxxxxxxxxxxxxxxxxxxxxxxxxxxxxxxxxx\n"
          ]
        }
      ]
    },
    {
      "cell_type": "code",
      "source": [
        "# Task 3 Get the Time Measures for the SVM rbf Model\n",
        "list_of_df_timed = calculate_time_spent(\n",
        "    svm_dict_train_time_rbf, svm_dict_prediction_time_rbf, svm_dict_accuracy_time_rbf, svm_dict_accuracy_score_rbf\n",
        "    )"
      ],
      "metadata": {
        "colab": {
          "base_uri": "https://localhost:8080/"
        },
        "id": "c146DNPVb24j",
        "outputId": "3429d824-2180-49e5-a6a5-329cc674f07d"
      },
      "execution_count": 30,
      "outputs": [
        {
          "output_type": "stream",
          "name": "stdout",
          "text": [
            "xxxxxxxxxxxxxxxxxxxxxxxxxxxxxxxxxxxxxxxxxxxxxxxxxxxxxxxxxxxxxxxxxxxxxxxxxxxxxxxxxxxxxxxxxxxxxxxxxxxx\n",
            "The minimum time for Train was 2.2123 seconds\n",
            "The maximum time for Train was 2.4220 seconds\n",
            "The average time for Train was 2.3417 seconds\n",
            "xxxxxxxxxxxxxxxxxxxxxxxxxxxxxxxxxxxxxxxxxxxxxxxxxxxxxxxxxxxxxxxxxxxxxxxxxxxxxxxxxxxxxxxxxxxxxxxxxxxx\n",
            "The minimum time for Prediction was 0.2000 seconds\n",
            "The maximum time for Prediction was 0.2220 seconds\n",
            "The average time for Prediction was 0.2084 seconds\n",
            "xxxxxxxxxxxxxxxxxxxxxxxxxxxxxxxxxxxxxxxxxxxxxxxxxxxxxxxxxxxxxxxxxxxxxxxxxxxxxxxxxxxxxxxxxxxxxxxxxxxx\n",
            "The minimum time for Accurary was 0.2010 seconds\n",
            "The maximum time for Accurary was 0.2185 seconds\n",
            "The average time for Accurary was 0.2096 seconds\n",
            "xxxxxxxxxxxxxxxxxxxxxxxxxxxxxxxxxxxxxxxxxxxxxxxxxxxxxxxxxxxxxxxxxxxxxxxxxxxxxxxxxxxxxxxxxxxxxxxxxxxx\n",
            "The minimum Score was 94.00%\n",
            "The maximum Score was 97.00%\n",
            "The average Score was 96.08%\n",
            "xxxxxxxxxxxxxxxxxxxxxxxxxxxxxxxxxxxxxxxxxxxxxxxxxxxxxxxxxxxxxxxxxxxxxxxxxxxxxxxxxxxxxxxxxxxxxxxxxxxx\n"
          ]
        }
      ]
    },
    {
      "cell_type": "code",
      "source": [
        "# Create a Dataframe with the time measures for the SVM rbf Model\n",
        "df_timed_svm_rbf = pd.DataFrame()\n",
        "# df_timed_perc = pd.DataFrame(np.array(list_of_df_timed).reshape(-1, 4))\n",
        "for i in range(0,len(list_of_df_timed)):\n",
        "  df_timed_svm_rbf[f'Shape_{i}'] = np.array(list_of_df_timed[i]).reshape(-1)\n",
        "df_timed_svm_rbf.rename(columns={\"Shape_0\": \"Train_Time\", \"Shape_1\": \"Prediction_Time\", \"Shape_2\": \"Accurary_Time\", \"Shape_3\": \"Accuray_Score\"}, inplace=True)\n",
        "df_timed_svm_rbf['Best_KFold'] = best_kfold_rbf\n",
        "df_timed_svm_rbf['Model_Name'] = \"SVM RBF\"\n",
        "df_timed_svm_rbf"
      ],
      "metadata": {
        "colab": {
          "base_uri": "https://localhost:8080/",
          "height": 363
        },
        "id": "QwdyAMtyb21k",
        "outputId": "8402b55e-7ac3-4991-9db9-f464a6d335e7"
      },
      "execution_count": 31,
      "outputs": [
        {
          "output_type": "execute_result",
          "data": {
            "text/html": [
              "<div>\n",
              "<style scoped>\n",
              "    .dataframe tbody tr th:only-of-type {\n",
              "        vertical-align: middle;\n",
              "    }\n",
              "\n",
              "    .dataframe tbody tr th {\n",
              "        vertical-align: top;\n",
              "    }\n",
              "\n",
              "    .dataframe thead th {\n",
              "        text-align: right;\n",
              "    }\n",
              "</style>\n",
              "<table border=\"1\" class=\"dataframe\">\n",
              "  <thead>\n",
              "    <tr style=\"text-align: right;\">\n",
              "      <th></th>\n",
              "      <th>Train_Time</th>\n",
              "      <th>Prediction_Time</th>\n",
              "      <th>Accurary_Time</th>\n",
              "      <th>Accuray_Score</th>\n",
              "      <th>Best_KFold</th>\n",
              "      <th>Model_Name</th>\n",
              "    </tr>\n",
              "  </thead>\n",
              "  <tbody>\n",
              "    <tr>\n",
              "      <th>0</th>\n",
              "      <td>2.419638</td>\n",
              "      <td>0.210251</td>\n",
              "      <td>0.218532</td>\n",
              "      <td>0.964</td>\n",
              "      <td>2</td>\n",
              "      <td>SVM RBF</td>\n",
              "    </tr>\n",
              "    <tr>\n",
              "      <th>1</th>\n",
              "      <td>2.407029</td>\n",
              "      <td>0.209956</td>\n",
              "      <td>0.211920</td>\n",
              "      <td>0.970</td>\n",
              "      <td>2</td>\n",
              "      <td>SVM RBF</td>\n",
              "    </tr>\n",
              "    <tr>\n",
              "      <th>2</th>\n",
              "      <td>2.278805</td>\n",
              "      <td>0.202726</td>\n",
              "      <td>0.204054</td>\n",
              "      <td>0.950</td>\n",
              "      <td>2</td>\n",
              "      <td>SVM RBF</td>\n",
              "    </tr>\n",
              "    <tr>\n",
              "      <th>3</th>\n",
              "      <td>2.212258</td>\n",
              "      <td>0.209390</td>\n",
              "      <td>0.217614</td>\n",
              "      <td>0.940</td>\n",
              "      <td>2</td>\n",
              "      <td>SVM RBF</td>\n",
              "    </tr>\n",
              "    <tr>\n",
              "      <th>4</th>\n",
              "      <td>2.312573</td>\n",
              "      <td>0.200047</td>\n",
              "      <td>0.204073</td>\n",
              "      <td>0.962</td>\n",
              "      <td>2</td>\n",
              "      <td>SVM RBF</td>\n",
              "    </tr>\n",
              "    <tr>\n",
              "      <th>5</th>\n",
              "      <td>2.394062</td>\n",
              "      <td>0.202330</td>\n",
              "      <td>0.200975</td>\n",
              "      <td>0.960</td>\n",
              "      <td>2</td>\n",
              "      <td>SVM RBF</td>\n",
              "    </tr>\n",
              "    <tr>\n",
              "      <th>6</th>\n",
              "      <td>2.304994</td>\n",
              "      <td>0.221986</td>\n",
              "      <td>0.210442</td>\n",
              "      <td>0.968</td>\n",
              "      <td>2</td>\n",
              "      <td>SVM RBF</td>\n",
              "    </tr>\n",
              "    <tr>\n",
              "      <th>7</th>\n",
              "      <td>2.360659</td>\n",
              "      <td>0.209161</td>\n",
              "      <td>0.210736</td>\n",
              "      <td>0.960</td>\n",
              "      <td>2</td>\n",
              "      <td>SVM RBF</td>\n",
              "    </tr>\n",
              "    <tr>\n",
              "      <th>8</th>\n",
              "      <td>2.422028</td>\n",
              "      <td>0.205893</td>\n",
              "      <td>0.210958</td>\n",
              "      <td>0.966</td>\n",
              "      <td>2</td>\n",
              "      <td>SVM RBF</td>\n",
              "    </tr>\n",
              "    <tr>\n",
              "      <th>9</th>\n",
              "      <td>2.304611</td>\n",
              "      <td>0.211790</td>\n",
              "      <td>0.207138</td>\n",
              "      <td>0.968</td>\n",
              "      <td>2</td>\n",
              "      <td>SVM RBF</td>\n",
              "    </tr>\n",
              "  </tbody>\n",
              "</table>\n",
              "</div>"
            ],
            "text/plain": [
              "   Train_Time  Prediction_Time  ...  Best_KFold  Model_Name\n",
              "0    2.419638         0.210251  ...           2     SVM RBF\n",
              "1    2.407029         0.209956  ...           2     SVM RBF\n",
              "2    2.278805         0.202726  ...           2     SVM RBF\n",
              "3    2.212258         0.209390  ...           2     SVM RBF\n",
              "4    2.312573         0.200047  ...           2     SVM RBF\n",
              "5    2.394062         0.202330  ...           2     SVM RBF\n",
              "6    2.304994         0.221986  ...           2     SVM RBF\n",
              "7    2.360659         0.209161  ...           2     SVM RBF\n",
              "8    2.422028         0.205893  ...           2     SVM RBF\n",
              "9    2.304611         0.211790  ...           2     SVM RBF\n",
              "\n",
              "[10 rows x 6 columns]"
            ]
          },
          "metadata": {},
          "execution_count": 31
        }
      ]
    },
    {
      "cell_type": "markdown",
      "source": [
        "# Task 4 (comparison, 2 points)\n",
        "Compare the runtime and accuracy of the classifiers [1 point]. Which one would you choose \n",
        "and why? [1 point]."
      ],
      "metadata": {
        "id": "nhK0jNZHoJl6"
      }
    },
    {
      "cell_type": "code",
      "source": [
        "list_of_timed_data_frames = [df_timed_perc, df_timed_perc_final, df_timed_svm_linear, df_timed_svm_rbf]"
      ],
      "metadata": {
        "id": "HYUpA618b2yy"
      },
      "execution_count": 32,
      "outputs": []
    },
    {
      "cell_type": "code",
      "source": [
        "df_final = pd.concat(list_of_timed_data_frames)\n",
        "df_final.sample(3)"
      ],
      "metadata": {
        "colab": {
          "base_uri": "https://localhost:8080/",
          "height": 143
        },
        "id": "LfRpYHu7b2vT",
        "outputId": "51c7dc91-19a4-4243-c5c4-abde1a8e9188"
      },
      "execution_count": 33,
      "outputs": [
        {
          "output_type": "execute_result",
          "data": {
            "text/html": [
              "<div>\n",
              "<style scoped>\n",
              "    .dataframe tbody tr th:only-of-type {\n",
              "        vertical-align: middle;\n",
              "    }\n",
              "\n",
              "    .dataframe tbody tr th {\n",
              "        vertical-align: top;\n",
              "    }\n",
              "\n",
              "    .dataframe thead th {\n",
              "        text-align: right;\n",
              "    }\n",
              "</style>\n",
              "<table border=\"1\" class=\"dataframe\">\n",
              "  <thead>\n",
              "    <tr style=\"text-align: right;\">\n",
              "      <th></th>\n",
              "      <th>Train_Time</th>\n",
              "      <th>Prediction_Time</th>\n",
              "      <th>Accurary_Time</th>\n",
              "      <th>Accuray_Score</th>\n",
              "      <th>Best_KFold</th>\n",
              "      <th>Model_Name</th>\n",
              "    </tr>\n",
              "  </thead>\n",
              "  <tbody>\n",
              "    <tr>\n",
              "      <th>3</th>\n",
              "      <td>2.749981</td>\n",
              "      <td>0.054037</td>\n",
              "      <td>0.056038</td>\n",
              "      <td>0.926</td>\n",
              "      <td>2</td>\n",
              "      <td>SVM Linear</td>\n",
              "    </tr>\n",
              "    <tr>\n",
              "      <th>6</th>\n",
              "      <td>0.321549</td>\n",
              "      <td>0.001408</td>\n",
              "      <td>0.002033</td>\n",
              "      <td>0.934</td>\n",
              "      <td>1</td>\n",
              "      <td>Perceptron</td>\n",
              "    </tr>\n",
              "    <tr>\n",
              "      <th>6</th>\n",
              "      <td>2.895595</td>\n",
              "      <td>0.049889</td>\n",
              "      <td>0.044386</td>\n",
              "      <td>0.930</td>\n",
              "      <td>2</td>\n",
              "      <td>SVM Linear</td>\n",
              "    </tr>\n",
              "  </tbody>\n",
              "</table>\n",
              "</div>"
            ],
            "text/plain": [
              "   Train_Time  Prediction_Time  ...  Best_KFold  Model_Name\n",
              "3    2.749981         0.054037  ...           2  SVM Linear\n",
              "6    0.321549         0.001408  ...           1  Perceptron\n",
              "6    2.895595         0.049889  ...           2  SVM Linear\n",
              "\n",
              "[3 rows x 6 columns]"
            ]
          },
          "metadata": {},
          "execution_count": 33
        }
      ]
    },
    {
      "cell_type": "code",
      "source": [
        "df_task4 = df_final.groupby(by=[\"Model_Name\"]).agg(\n",
        "    best_kfold = pd.NamedAgg(column=\"Best_KFold\", aggfunc=max),\n",
        "    min_accuray_Score = pd.NamedAgg(column=\"Accuray_Score\", aggfunc=min),\n",
        "    max_accuray_Score = pd.NamedAgg(column=\"Accuray_Score\", aggfunc=max),\n",
        "    avg_accuray_Score = pd.NamedAgg(column=\"Accuray_Score\", aggfunc=\"mean\"),\n",
        "    std_accuray_Score = pd.NamedAgg(column=\"Accuray_Score\", aggfunc=\"std\"),\n",
        "    min_train_time = pd.NamedAgg(column=\"Train_Time\", aggfunc=min),\n",
        "    max_train_time = pd.NamedAgg(column=\"Train_Time\", aggfunc=max),\n",
        "    avg_train_time = pd.NamedAgg(column=\"Train_Time\", aggfunc=\"mean\"),\n",
        "    std_train_time = pd.NamedAgg(column=\"Train_Time\", aggfunc=\"std\"),\n",
        "    min_prediction_time = pd.NamedAgg(column=\"Prediction_Time\", aggfunc=min),\n",
        "    max_prediction_time = pd.NamedAgg(column=\"Prediction_Time\", aggfunc=max),\n",
        "    avg_prediction_time = pd.NamedAgg(column=\"Prediction_Time\", aggfunc=\"mean\"),\n",
        "    std_prediction_time = pd.NamedAgg(column=\"Prediction_Time\", aggfunc=\"std\"),\n",
        "    min_accurary_time = pd.NamedAgg(column=\"Accurary_Time\", aggfunc=min),\n",
        "    max_accurary_time = pd.NamedAgg(column=\"Accurary_Time\", aggfunc=max),\n",
        "    avg_accurary_time = pd.NamedAgg(column=\"Accurary_Time\", aggfunc=\"mean\"),\n",
        "    std_accurary_time = pd.NamedAgg(column=\"Accurary_Time\", aggfunc=\"std\")\n",
        ")"
      ],
      "metadata": {
        "id": "ibKnbz1Eb2sa"
      },
      "execution_count": 34,
      "outputs": []
    },
    {
      "cell_type": "code",
      "source": [
        "df_task4.transpose()"
      ],
      "metadata": {
        "colab": {
          "base_uri": "https://localhost:8080/",
          "height": 582
        },
        "id": "ETbK0RA9b2pk",
        "outputId": "bf453602-2c6c-44bb-e5d2-53755ad832dd"
      },
      "execution_count": 35,
      "outputs": [
        {
          "output_type": "execute_result",
          "data": {
            "text/html": [
              "<div>\n",
              "<style scoped>\n",
              "    .dataframe tbody tr th:only-of-type {\n",
              "        vertical-align: middle;\n",
              "    }\n",
              "\n",
              "    .dataframe tbody tr th {\n",
              "        vertical-align: top;\n",
              "    }\n",
              "\n",
              "    .dataframe thead th {\n",
              "        text-align: right;\n",
              "    }\n",
              "</style>\n",
              "<table border=\"1\" class=\"dataframe\">\n",
              "  <thead>\n",
              "    <tr style=\"text-align: right;\">\n",
              "      <th>Model_Name</th>\n",
              "      <th>Perceptron</th>\n",
              "      <th>Perceptron Final</th>\n",
              "      <th>SVM Linear</th>\n",
              "      <th>SVM RBF</th>\n",
              "    </tr>\n",
              "  </thead>\n",
              "  <tbody>\n",
              "    <tr>\n",
              "      <th>best_kfold</th>\n",
              "      <td>1.000000</td>\n",
              "      <td>1.000000</td>\n",
              "      <td>2.000000</td>\n",
              "      <td>2.000000</td>\n",
              "    </tr>\n",
              "    <tr>\n",
              "      <th>min_accuray_Score</th>\n",
              "      <td>0.898000</td>\n",
              "      <td>0.897286</td>\n",
              "      <td>0.914000</td>\n",
              "      <td>0.940000</td>\n",
              "    </tr>\n",
              "    <tr>\n",
              "      <th>max_accuray_Score</th>\n",
              "      <td>0.964000</td>\n",
              "      <td>0.921714</td>\n",
              "      <td>0.950000</td>\n",
              "      <td>0.970000</td>\n",
              "    </tr>\n",
              "    <tr>\n",
              "      <th>avg_accuray_Score</th>\n",
              "      <td>0.940400</td>\n",
              "      <td>0.909500</td>\n",
              "      <td>0.935400</td>\n",
              "      <td>0.960800</td>\n",
              "    </tr>\n",
              "    <tr>\n",
              "      <th>std_accuray_Score</th>\n",
              "      <td>0.018374</td>\n",
              "      <td>0.017274</td>\n",
              "      <td>0.010416</td>\n",
              "      <td>0.009295</td>\n",
              "    </tr>\n",
              "    <tr>\n",
              "      <th>min_train_time</th>\n",
              "      <td>0.142000</td>\n",
              "      <td>0.325544</td>\n",
              "      <td>2.341238</td>\n",
              "      <td>2.212258</td>\n",
              "    </tr>\n",
              "    <tr>\n",
              "      <th>max_train_time</th>\n",
              "      <td>0.330590</td>\n",
              "      <td>0.519267</td>\n",
              "      <td>3.201767</td>\n",
              "      <td>2.422028</td>\n",
              "    </tr>\n",
              "    <tr>\n",
              "      <th>avg_train_time</th>\n",
              "      <td>0.234786</td>\n",
              "      <td>0.422405</td>\n",
              "      <td>2.864948</td>\n",
              "      <td>2.341666</td>\n",
              "    </tr>\n",
              "    <tr>\n",
              "      <th>std_train_time</th>\n",
              "      <td>0.058526</td>\n",
              "      <td>0.136983</td>\n",
              "      <td>0.227181</td>\n",
              "      <td>0.070062</td>\n",
              "    </tr>\n",
              "    <tr>\n",
              "      <th>min_prediction_time</th>\n",
              "      <td>0.001408</td>\n",
              "      <td>0.013355</td>\n",
              "      <td>0.049889</td>\n",
              "      <td>0.200047</td>\n",
              "    </tr>\n",
              "    <tr>\n",
              "      <th>max_prediction_time</th>\n",
              "      <td>0.004929</td>\n",
              "      <td>0.013919</td>\n",
              "      <td>0.061078</td>\n",
              "      <td>0.221986</td>\n",
              "    </tr>\n",
              "    <tr>\n",
              "      <th>avg_prediction_time</th>\n",
              "      <td>0.002429</td>\n",
              "      <td>0.013637</td>\n",
              "      <td>0.054469</td>\n",
              "      <td>0.208353</td>\n",
              "    </tr>\n",
              "    <tr>\n",
              "      <th>std_prediction_time</th>\n",
              "      <td>0.001236</td>\n",
              "      <td>0.000399</td>\n",
              "      <td>0.003013</td>\n",
              "      <td>0.006223</td>\n",
              "    </tr>\n",
              "    <tr>\n",
              "      <th>min_accurary_time</th>\n",
              "      <td>0.001835</td>\n",
              "      <td>0.016549</td>\n",
              "      <td>0.044386</td>\n",
              "      <td>0.200975</td>\n",
              "    </tr>\n",
              "    <tr>\n",
              "      <th>max_accurary_time</th>\n",
              "      <td>0.002841</td>\n",
              "      <td>0.023137</td>\n",
              "      <td>0.057766</td>\n",
              "      <td>0.218532</td>\n",
              "    </tr>\n",
              "    <tr>\n",
              "      <th>avg_accurary_time</th>\n",
              "      <td>0.002050</td>\n",
              "      <td>0.019843</td>\n",
              "      <td>0.052562</td>\n",
              "      <td>0.209644</td>\n",
              "    </tr>\n",
              "    <tr>\n",
              "      <th>std_accurary_time</th>\n",
              "      <td>0.000308</td>\n",
              "      <td>0.004658</td>\n",
              "      <td>0.003958</td>\n",
              "      <td>0.005725</td>\n",
              "    </tr>\n",
              "  </tbody>\n",
              "</table>\n",
              "</div>"
            ],
            "text/plain": [
              "Model_Name           Perceptron  Perceptron Final  SVM Linear   SVM RBF\n",
              "best_kfold             1.000000          1.000000    2.000000  2.000000\n",
              "min_accuray_Score      0.898000          0.897286    0.914000  0.940000\n",
              "max_accuray_Score      0.964000          0.921714    0.950000  0.970000\n",
              "avg_accuray_Score      0.940400          0.909500    0.935400  0.960800\n",
              "std_accuray_Score      0.018374          0.017274    0.010416  0.009295\n",
              "min_train_time         0.142000          0.325544    2.341238  2.212258\n",
              "max_train_time         0.330590          0.519267    3.201767  2.422028\n",
              "avg_train_time         0.234786          0.422405    2.864948  2.341666\n",
              "std_train_time         0.058526          0.136983    0.227181  0.070062\n",
              "min_prediction_time    0.001408          0.013355    0.049889  0.200047\n",
              "max_prediction_time    0.004929          0.013919    0.061078  0.221986\n",
              "avg_prediction_time    0.002429          0.013637    0.054469  0.208353\n",
              "std_prediction_time    0.001236          0.000399    0.003013  0.006223\n",
              "min_accurary_time      0.001835          0.016549    0.044386  0.200975\n",
              "max_accurary_time      0.002841          0.023137    0.057766  0.218532\n",
              "avg_accurary_time      0.002050          0.019843    0.052562  0.209644\n",
              "std_accurary_time      0.000308          0.004658    0.003958  0.005725"
            ]
          },
          "metadata": {},
          "execution_count": 35
        }
      ]
    },
    {
      "cell_type": "code",
      "source": [
        "# Ordering the Models dataset to get the best accurary score as the first index.\n",
        "df_task4.sort_values(by=\"max_accuray_Score\", ascending=False, inplace=True)\n",
        "df_task4"
      ],
      "metadata": {
        "id": "rV6eFGmfb2mr"
      },
      "execution_count": 42,
      "outputs": []
    },
    {
      "cell_type": "code",
      "source": [
        "# Create a Color Pattern Palette\n",
        "colors_pattern=['blue', 'orange', 'green',  'red']"
      ],
      "metadata": {
        "id": "Hr-podLT4Zw5"
      },
      "execution_count": 38,
      "outputs": []
    },
    {
      "cell_type": "code",
      "source": [
        "# Create a figure for 2 subplots (1 row, 2 columns)\n",
        "fig, ax = plt.subplots(1, 2, figsize = (16,8))\n",
        "\n",
        "# Create a bar plot of name vs grade on the first axis\n",
        "# Index has the Model names, size has the Accuracy Score\n",
        "ax[0].bar(x=df_task4.index, height=df_task4.max_accuray_Score, color=colors_pattern)\n",
        "ax[0].set_title('Accuray Score Comparison')\n",
        "# Move the label names to 90 degres \n",
        "ax[0].set_xticklabels(df_task4.index, rotation=90)\n",
        "# Draw an horizontal line to explicity the Best Model\n",
        "ax[0].axhline(y=max(df_task4.max_accuray_Score), color = 'gray', linestyle='dashed', linewidth = 2)\n",
        "# Add an horizontal text on top of the line to the Best Model\n",
        "ax[0].text(y=max(df_task4.max_accuray_Score), x=-0.5, s=f'Best Model Accurary Score: {np.around(max(df_task4.max_accuray_Score),2):0.2%}')\n",
        "\n",
        "# Create a pie chart of pass counts on the second axis\n",
        "# List o Accuracy Score\n",
        "max_accuracy_score = np.round(df_task4.max_accuray_Score, 2)\n",
        "# Display a Pie chart exploding the best model accuracy score\n",
        "ax[1].pie(max_accuracy_score, labels=max_accuracy_score, shadow=True, labeldistance=0.5, autopct='%1.2f%%', explode=(0.1,0,0,0), colors=colors_pattern)\n",
        "# Chart Label Name\n",
        "ax[1].set_title('Accuray Score Comparison')\n",
        "# Set the lengend using the index\n",
        "ax[1].legend(max_accuracy_score.index)\n",
        "\n",
        "# Add a title to the Figure\n",
        "fig.suptitle('Final Measures')\n",
        "\n",
        "# Show the figure\n",
        "fig.show()"
      ],
      "metadata": {
        "id": "9pe-JNaj5tWo",
        "colab": {
          "base_uri": "https://localhost:8080/",
          "height": 610
        },
        "outputId": "3aac06cb-84a2-47ef-e08a-7a8b512577dc"
      },
      "execution_count": 44,
      "outputs": [
        {
          "output_type": "display_data",
          "data": {
            "image/png": "[encoded data removed]",
            "text/plain": [
              "<Figure size 1152x576 with 2 Axes>"
            ]
          },
          "metadata": {
            "needs_background": "light"
          }
        }
      ]
    },
    {
      "cell_type": "markdown",
      "source": [
        "Final task\n",
        "Print the time spent to train the best model accuray score for each model"
      ],
      "metadata": {
        "id": "gvOvqrX3hmFD"
      }
    },
    {
      "cell_type": "code",
      "source": [
        "# Create a set o Models based on the models name\n",
        "list_of_models = set(df_final.Model_Name)\n",
        "# Loop based on the Model Names to filter the Dataset and get the best score fo each model\n",
        "for model in list_of_models:\n",
        "  df_task4_b = df_final.loc[df_final.Model_Name ==model].sort_values(by='Accuray_Score', ascending=False)[{\"Model_Name\", \"Train_Time\", \"Accuray_Score\", \"Best_KFold\"}].head(1)\n",
        "  # Print the Dataset values outcomes\n",
        "  print(f'The best has run at kfold {df_task4_b.Best_KFold.values[0]} for the Model called {df_task4_b.Model_Name.values[0]} and took {np.round(df_task4_b.Train_Time.values[0], 4)} seconds to train the model and got a Score of {np.round(df_task4_b.Accuray_Score.values[0], 4):0.2%} on the prediction test.\\n')\n",
        "  "
      ],
      "metadata": {
        "id": "YuCPIuzzy7Of",
        "colab": {
          "base_uri": "https://localhost:8080/"
        },
        "outputId": "13e31364-5e7e-45f0-ab4a-528e555420e3"
      },
      "execution_count": 147,
      "outputs": [
        {
          "output_type": "stream",
          "name": "stdout",
          "text": [
            "The best has run at kfold 1 for the Model called Perceptron Final and took 0.5193 seconds to train the model and got a Score of 92.17% on the prediction test.\n",
            "\n",
            "The best has run at kfold 2 for the Model called SVM Linear and took 3.2018 seconds to train the model and got a Score of 95.00% on the prediction test.\n",
            "\n",
            "The best has run at kfold 1 for the Model called Perceptron and took 0.2196 seconds to train the model and got a Score of 96.40% on the prediction test.\n",
            "\n",
            "The best has run at kfold 2 for the Model called SVM RBF and took 2.407 seconds to train the model and got a Score of 97.00% on the prediction test.\n",
            "\n"
          ]
        }
      ]
    },
    {
      "cell_type": "code",
      "source": [
        ""
      ],
      "metadata": {
        "id": "4e6w1Z0Ggd9L"
      },
      "execution_count": null,
      "outputs": []
    }
  ]
}